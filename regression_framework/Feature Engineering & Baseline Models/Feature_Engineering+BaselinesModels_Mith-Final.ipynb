{
  "cells": [
    {
      "cell_type": "code",
      "execution_count": 1,
      "metadata": {
        "colab": {
          "base_uri": "https://localhost:8080/"
        },
        "id": "V11mIvjQ4ySg",
        "outputId": "5a6e78ed-2aea-4a57-eb49-8b2798f80d9f"
      },
      "outputs": [
        {
          "output_type": "stream",
          "name": "stdout",
          "text": [
            "Drive already mounted at /content/drive; to attempt to forcibly remount, call drive.mount(\"/content/drive\", force_remount=True).\n"
          ]
        }
      ],
      "source": [
        "#from google.colab import drive\n",
        "#drive.mount('/content/drive')"
      ]
    },
    {
      "cell_type": "markdown",
      "metadata": {
        "id": "XGfkmYFB2gWg"
      },
      "source": [
        "### Feature Engineering:\n",
        "\n",
        "In the following cells, we will engineer / pre-process the variables. We will engineer the variables so that we tackle:\n",
        "\n",
        "* Duplicate check\n",
        "* Missing values\n",
        "* Temporal variables\n",
        "* Standarise the values of all variables to the same range (Standardization)\n",
        "* Encoding of Categorical variables\n",
        "* Forming new meaningful features if needed\n",
        "* Dropping redundant columns\n",
        "* Multi-Colinearity check and removal\n",
        "* Outlier check and removal\n"
      ]
    },
    {
      "cell_type": "markdown",
      "metadata": {
        "id": "fVtiI7XY3JO2"
      },
      "source": [
        "### Import necessary libraries:"
      ]
    },
    {
      "cell_type": "code",
      "execution_count": 3,
      "metadata": {
        "id": "b5erDbod3IFE"
      },
      "outputs": [],
      "source": [
        "import numpy as np\n",
        "import pandas as pd\n",
        "import seaborn as sns\n",
        "import math as mt\n",
        "import matplotlib.pyplot as plt\n",
        "import warnings\n",
        "from scipy import stats\n",
        "from sklearn.preprocessing import StandardScaler\n",
        "from sklearn.preprocessing import LabelEncoder\n",
        "import seaborn as sns\n",
        "import re\n",
        "%matplotlib inline\n",
        "pd.set_option('display.max_columns',None)\n",
        "warnings.simplefilter(action='ignore')"
      ]
    },
    {
      "cell_type": "code",
      "source": [
        "import numpy as np\n",
        "import pandas as pd\n",
        "import seaborn as sns\n",
        "import matplotlib.pyplot as plt\n",
        "import warnings\n",
        "import xgboost\n",
        "\n",
        "from math import sqrt\n",
        "from sklearn.model_selection import train_test_split\n",
        "from sklearn.preprocessing import StandardScaler\n",
        "from sklearn.linear_model import LinearRegression, ElasticNet, Ridge, Lasso, SGDRegressor\n",
        "from sklearn.metrics import mean_squared_error, mean_absolute_error, r2_score\n",
        "from sklearn.ensemble import RandomForestRegressor, AdaBoostRegressor, GradientBoostingRegressor\n",
        "from sklearn.tree import DecisionTreeRegressor\n",
        "from sklearn.preprocessing import PolynomialFeatures\n",
        "from sklearn.model_selection import GridSearchCV\n",
        "from sklearn.model_selection import cross_val_score\n",
        "from sklearn.model_selection import GridSearchCV\n",
        "from sklearn.model_selection import cross_val_score\n",
        "%matplotlib inline\n",
        "pd.set_option('display.max_columns',None)\n",
        "warnings.filterwarnings(action='ignore')"
      ],
      "metadata": {
        "id": "Qf2tGtKe4Kwx"
      },
      "execution_count": 4,
      "outputs": []
    },
    {
      "cell_type": "code",
      "execution_count": 5,
      "metadata": {
        "colab": {
          "base_uri": "https://localhost:8080/"
        },
        "id": "ylkno7XP4rJE",
        "outputId": "bfa6eee1-def1-4661-9cfb-d29284a84f9c"
      },
      "outputs": [
        {
          "output_type": "execute_result",
          "data": {
            "text/plain": [
              "(16810, 19)"
            ]
          },
          "metadata": {},
          "execution_count": 5
        }
      ],
      "source": [
        "df_train = pd.read_csv('/content/drive/MyDrive/PHD-Practice/mith_train_initial_dataset.csv')\n",
        "df_train_copy = df_train.copy()\n",
        "df_train.shape"
      ]
    },
    {
      "cell_type": "code",
      "execution_count": 6,
      "metadata": {
        "colab": {
          "base_uri": "https://localhost:8080/",
          "height": 687
        },
        "id": "mA0Jo09H-Rzf",
        "outputId": "6e2e44e3-c5d9-46e9-be54-32a0b0dcbbfa"
      },
      "outputs": [
        {
          "output_type": "execute_result",
          "data": {
            "text/html": [
              "\n",
              "  <div id=\"df-67b1925a-33df-4d89-a751-847f561da525\">\n",
              "    <div class=\"colab-df-container\">\n",
              "      <div>\n",
              "<style scoped>\n",
              "    .dataframe tbody tr th:only-of-type {\n",
              "        vertical-align: middle;\n",
              "    }\n",
              "\n",
              "    .dataframe tbody tr th {\n",
              "        vertical-align: top;\n",
              "    }\n",
              "\n",
              "    .dataframe thead th {\n",
              "        text-align: right;\n",
              "    }\n",
              "</style>\n",
              "<table border=\"1\" class=\"dataframe\">\n",
              "  <thead>\n",
              "    <tr style=\"text-align: right;\">\n",
              "      <th></th>\n",
              "      <th>PropertyID</th>\n",
              "      <th>Borough</th>\n",
              "      <th>State</th>\n",
              "      <th>Surroundings</th>\n",
              "      <th>Address</th>\n",
              "      <th>ZipCode</th>\n",
              "      <th>Block</th>\n",
              "      <th>Lot</th>\n",
              "      <th>BldgClassCategory</th>\n",
              "      <th>NoOfResidentialUnits</th>\n",
              "      <th>NoOfCommercialUnits</th>\n",
              "      <th>TotalNoOfUnits</th>\n",
              "      <th>LandAreaInSqFt</th>\n",
              "      <th>GrossAreaInSqFt</th>\n",
              "      <th>YearOfConstruction</th>\n",
              "      <th>TaxClass_AtEvaluationTime</th>\n",
              "      <th>BldgClass_AtEvaluationTime</th>\n",
              "      <th>PropertyEvaluationvalue</th>\n",
              "      <th>year_evaluation</th>\n",
              "    </tr>\n",
              "  </thead>\n",
              "  <tbody>\n",
              "    <tr>\n",
              "      <th>0</th>\n",
              "      <td>PR11101</td>\n",
              "      <td>1</td>\n",
              "      <td>NY</td>\n",
              "      <td>BATHGATE</td>\n",
              "      <td>1473 CROTONA PLACE</td>\n",
              "      <td>10456</td>\n",
              "      <td>2927</td>\n",
              "      <td>127</td>\n",
              "      <td>02 TWO FAMILY DWELLINGS</td>\n",
              "      <td>2</td>\n",
              "      <td>0</td>\n",
              "      <td>2</td>\n",
              "      <td>1900</td>\n",
              "      <td>2394</td>\n",
              "      <td>1990</td>\n",
              "      <td>1</td>\n",
              "      <td>B1</td>\n",
              "      <td>540000</td>\n",
              "      <td>2014</td>\n",
              "    </tr>\n",
              "    <tr>\n",
              "      <th>1</th>\n",
              "      <td>PR11102</td>\n",
              "      <td>1</td>\n",
              "      <td>NY</td>\n",
              "      <td>BATHGATE</td>\n",
              "      <td>453 EAST 181</td>\n",
              "      <td>10457</td>\n",
              "      <td>3037</td>\n",
              "      <td>110</td>\n",
              "      <td>03 THREE FAMILY DWELLINGS</td>\n",
              "      <td>3</td>\n",
              "      <td>0</td>\n",
              "      <td>3</td>\n",
              "      <td>1687</td>\n",
              "      <td>3037</td>\n",
              "      <td>2002</td>\n",
              "      <td>1</td>\n",
              "      <td>C0</td>\n",
              "      <td>750000</td>\n",
              "      <td>2014</td>\n",
              "    </tr>\n",
              "    <tr>\n",
              "      <th>2</th>\n",
              "      <td>PR11103</td>\n",
              "      <td>1</td>\n",
              "      <td>NY</td>\n",
              "      <td>BATHGATE</td>\n",
              "      <td>511 EAST 171 STREET</td>\n",
              "      <td>10457</td>\n",
              "      <td>2912</td>\n",
              "      <td>155</td>\n",
              "      <td>02 TWO FAMILY DWELLINGS</td>\n",
              "      <td>2</td>\n",
              "      <td>0</td>\n",
              "      <td>2</td>\n",
              "      <td>2000</td>\n",
              "      <td>2400</td>\n",
              "      <td>1989</td>\n",
              "      <td>1</td>\n",
              "      <td>B1</td>\n",
              "      <td>470000</td>\n",
              "      <td>2014</td>\n",
              "    </tr>\n",
              "    <tr>\n",
              "      <th>3</th>\n",
              "      <td>PR11104</td>\n",
              "      <td>1</td>\n",
              "      <td>NY</td>\n",
              "      <td>BATHGATE</td>\n",
              "      <td>547 CLAREMONT PARKWAY</td>\n",
              "      <td>10457</td>\n",
              "      <td>2929</td>\n",
              "      <td>134</td>\n",
              "      <td>02 TWO FAMILY DWELLINGS</td>\n",
              "      <td>2</td>\n",
              "      <td>0</td>\n",
              "      <td>2</td>\n",
              "      <td>2356</td>\n",
              "      <td>2394</td>\n",
              "      <td>1991</td>\n",
              "      <td>1</td>\n",
              "      <td>B1</td>\n",
              "      <td>570000</td>\n",
              "      <td>2014</td>\n",
              "    </tr>\n",
              "    <tr>\n",
              "      <th>4</th>\n",
              "      <td>PR11105</td>\n",
              "      <td>1</td>\n",
              "      <td>NY</td>\n",
              "      <td>BATHGATE</td>\n",
              "      <td>2063 WASHINGTON AVENUE</td>\n",
              "      <td>10457</td>\n",
              "      <td>3036</td>\n",
              "      <td>140</td>\n",
              "      <td>02 TWO FAMILY DWELLINGS</td>\n",
              "      <td>2</td>\n",
              "      <td>0</td>\n",
              "      <td>2</td>\n",
              "      <td>3346</td>\n",
              "      <td>2308</td>\n",
              "      <td>1993</td>\n",
              "      <td>1</td>\n",
              "      <td>B1</td>\n",
              "      <td>640000</td>\n",
              "      <td>2015</td>\n",
              "    </tr>\n",
              "    <tr>\n",
              "      <th>5</th>\n",
              "      <td>PR11106</td>\n",
              "      <td>1</td>\n",
              "      <td>NY</td>\n",
              "      <td>BATHGATE</td>\n",
              "      <td>3825 3RD AVENUE</td>\n",
              "      <td>10457</td>\n",
              "      <td>2912</td>\n",
              "      <td>26</td>\n",
              "      <td>14 RENTALS - 4-10 UNIT</td>\n",
              "      <td>4</td>\n",
              "      <td>1</td>\n",
              "      <td>5</td>\n",
              "      <td>2000</td>\n",
              "      <td>5940</td>\n",
              "      <td>2007</td>\n",
              "      <td>2</td>\n",
              "      <td>S4</td>\n",
              "      <td>1350000</td>\n",
              "      <td>2015</td>\n",
              "    </tr>\n",
              "    <tr>\n",
              "      <th>6</th>\n",
              "      <td>PR11107</td>\n",
              "      <td>1</td>\n",
              "      <td>NY</td>\n",
              "      <td>BATHGATE</td>\n",
              "      <td>476 EAST 186 STREET</td>\n",
              "      <td>10458</td>\n",
              "      <td>3039</td>\n",
              "      <td>159</td>\n",
              "      <td>02 TWO FAMILY DWELLINGS</td>\n",
              "      <td>2</td>\n",
              "      <td>0</td>\n",
              "      <td>2</td>\n",
              "      <td>2033</td>\n",
              "      <td>2400</td>\n",
              "      <td>1993</td>\n",
              "      <td>1</td>\n",
              "      <td>B1</td>\n",
              "      <td>400000</td>\n",
              "      <td>2014</td>\n",
              "    </tr>\n",
              "    <tr>\n",
              "      <th>7</th>\n",
              "      <td>PR11108</td>\n",
              "      <td>1</td>\n",
              "      <td>NY</td>\n",
              "      <td>BATHGATE</td>\n",
              "      <td>559 CLAREMONT PARKWAY</td>\n",
              "      <td>10457</td>\n",
              "      <td>2929</td>\n",
              "      <td>128</td>\n",
              "      <td>02 TWO FAMILY DWELLINGS</td>\n",
              "      <td>2</td>\n",
              "      <td>0</td>\n",
              "      <td>2</td>\n",
              "      <td>2361</td>\n",
              "      <td>2394</td>\n",
              "      <td>1991</td>\n",
              "      <td>1</td>\n",
              "      <td>B1</td>\n",
              "      <td>514216</td>\n",
              "      <td>2015</td>\n",
              "    </tr>\n",
              "    <tr>\n",
              "      <th>8</th>\n",
              "      <td>PR11109</td>\n",
              "      <td>1</td>\n",
              "      <td>NY</td>\n",
              "      <td>BATHGATE</td>\n",
              "      <td>3864 3RD AVENUE</td>\n",
              "      <td>10457</td>\n",
              "      <td>2929</td>\n",
              "      <td>119</td>\n",
              "      <td>02 TWO FAMILY DWELLINGS</td>\n",
              "      <td>2</td>\n",
              "      <td>0</td>\n",
              "      <td>2</td>\n",
              "      <td>2432</td>\n",
              "      <td>2394</td>\n",
              "      <td>1991</td>\n",
              "      <td>1</td>\n",
              "      <td>B1</td>\n",
              "      <td>679000</td>\n",
              "      <td>2014</td>\n",
              "    </tr>\n",
              "    <tr>\n",
              "      <th>9</th>\n",
              "      <td>PR11110</td>\n",
              "      <td>1</td>\n",
              "      <td>NY</td>\n",
              "      <td>BATHGATE</td>\n",
              "      <td>1941 WASHINGTON AVENUE</td>\n",
              "      <td>10457</td>\n",
              "      <td>3034</td>\n",
              "      <td>137</td>\n",
              "      <td>02 TWO FAMILY DWELLINGS</td>\n",
              "      <td>2</td>\n",
              "      <td>0</td>\n",
              "      <td>2</td>\n",
              "      <td>2663</td>\n",
              "      <td>3204</td>\n",
              "      <td>1991</td>\n",
              "      <td>1</td>\n",
              "      <td>B1</td>\n",
              "      <td>520000</td>\n",
              "      <td>2014</td>\n",
              "    </tr>\n",
              "  </tbody>\n",
              "</table>\n",
              "</div>\n",
              "      <button class=\"colab-df-convert\" onclick=\"convertToInteractive('df-67b1925a-33df-4d89-a751-847f561da525')\"\n",
              "              title=\"Convert this dataframe to an interactive table.\"\n",
              "              style=\"display:none;\">\n",
              "        \n",
              "  <svg xmlns=\"http://www.w3.org/2000/svg\" height=\"24px\"viewBox=\"0 0 24 24\"\n",
              "       width=\"24px\">\n",
              "    <path d=\"M0 0h24v24H0V0z\" fill=\"none\"/>\n",
              "    <path d=\"M18.56 5.44l.94 2.06.94-2.06 2.06-.94-2.06-.94-.94-2.06-.94 2.06-2.06.94zm-11 1L8.5 8.5l.94-2.06 2.06-.94-2.06-.94L8.5 2.5l-.94 2.06-2.06.94zm10 10l.94 2.06.94-2.06 2.06-.94-2.06-.94-.94-2.06-.94 2.06-2.06.94z\"/><path d=\"M17.41 7.96l-1.37-1.37c-.4-.4-.92-.59-1.43-.59-.52 0-1.04.2-1.43.59L10.3 9.45l-7.72 7.72c-.78.78-.78 2.05 0 2.83L4 21.41c.39.39.9.59 1.41.59.51 0 1.02-.2 1.41-.59l7.78-7.78 2.81-2.81c.8-.78.8-2.07 0-2.86zM5.41 20L4 18.59l7.72-7.72 1.47 1.35L5.41 20z\"/>\n",
              "  </svg>\n",
              "      </button>\n",
              "      \n",
              "  <style>\n",
              "    .colab-df-container {\n",
              "      display:flex;\n",
              "      flex-wrap:wrap;\n",
              "      gap: 12px;\n",
              "    }\n",
              "\n",
              "    .colab-df-convert {\n",
              "      background-color: #E8F0FE;\n",
              "      border: none;\n",
              "      border-radius: 50%;\n",
              "      cursor: pointer;\n",
              "      display: none;\n",
              "      fill: #1967D2;\n",
              "      height: 32px;\n",
              "      padding: 0 0 0 0;\n",
              "      width: 32px;\n",
              "    }\n",
              "\n",
              "    .colab-df-convert:hover {\n",
              "      background-color: #E2EBFA;\n",
              "      box-shadow: 0px 1px 2px rgba(60, 64, 67, 0.3), 0px 1px 3px 1px rgba(60, 64, 67, 0.15);\n",
              "      fill: #174EA6;\n",
              "    }\n",
              "\n",
              "    [theme=dark] .colab-df-convert {\n",
              "      background-color: #3B4455;\n",
              "      fill: #D2E3FC;\n",
              "    }\n",
              "\n",
              "    [theme=dark] .colab-df-convert:hover {\n",
              "      background-color: #434B5C;\n",
              "      box-shadow: 0px 1px 3px 1px rgba(0, 0, 0, 0.15);\n",
              "      filter: drop-shadow(0px 1px 2px rgba(0, 0, 0, 0.3));\n",
              "      fill: #FFFFFF;\n",
              "    }\n",
              "  </style>\n",
              "\n",
              "      <script>\n",
              "        const buttonEl =\n",
              "          document.querySelector('#df-67b1925a-33df-4d89-a751-847f561da525 button.colab-df-convert');\n",
              "        buttonEl.style.display =\n",
              "          google.colab.kernel.accessAllowed ? 'block' : 'none';\n",
              "\n",
              "        async function convertToInteractive(key) {\n",
              "          const element = document.querySelector('#df-67b1925a-33df-4d89-a751-847f561da525');\n",
              "          const dataTable =\n",
              "            await google.colab.kernel.invokeFunction('convertToInteractive',\n",
              "                                                     [key], {});\n",
              "          if (!dataTable) return;\n",
              "\n",
              "          const docLinkHtml = 'Like what you see? Visit the ' +\n",
              "            '<a target=\"_blank\" href=https://colab.research.google.com/notebooks/data_table.ipynb>data table notebook</a>'\n",
              "            + ' to learn more about interactive tables.';\n",
              "          element.innerHTML = '';\n",
              "          dataTable['output_type'] = 'display_data';\n",
              "          await google.colab.output.renderOutput(dataTable, element);\n",
              "          const docLink = document.createElement('div');\n",
              "          docLink.innerHTML = docLinkHtml;\n",
              "          element.appendChild(docLink);\n",
              "        }\n",
              "      </script>\n",
              "    </div>\n",
              "  </div>\n",
              "  "
            ],
            "text/plain": [
              "  PropertyID  Borough State Surroundings                 Address  ZipCode  \\\n",
              "0    PR11101        1    NY     BATHGATE      1473 CROTONA PLACE    10456   \n",
              "1    PR11102        1    NY     BATHGATE            453 EAST 181    10457   \n",
              "2    PR11103        1    NY     BATHGATE     511 EAST 171 STREET    10457   \n",
              "3    PR11104        1    NY     BATHGATE   547 CLAREMONT PARKWAY    10457   \n",
              "4    PR11105        1    NY     BATHGATE  2063 WASHINGTON AVENUE    10457   \n",
              "5    PR11106        1    NY     BATHGATE         3825 3RD AVENUE    10457   \n",
              "6    PR11107        1    NY     BATHGATE     476 EAST 186 STREET    10458   \n",
              "7    PR11108        1    NY     BATHGATE   559 CLAREMONT PARKWAY    10457   \n",
              "8    PR11109        1    NY     BATHGATE         3864 3RD AVENUE    10457   \n",
              "9    PR11110        1    NY     BATHGATE  1941 WASHINGTON AVENUE    10457   \n",
              "\n",
              "   Block  Lot          BldgClassCategory  NoOfResidentialUnits  \\\n",
              "0   2927  127    02 TWO FAMILY DWELLINGS                     2   \n",
              "1   3037  110  03 THREE FAMILY DWELLINGS                     3   \n",
              "2   2912  155    02 TWO FAMILY DWELLINGS                     2   \n",
              "3   2929  134    02 TWO FAMILY DWELLINGS                     2   \n",
              "4   3036  140    02 TWO FAMILY DWELLINGS                     2   \n",
              "5   2912   26     14 RENTALS - 4-10 UNIT                     4   \n",
              "6   3039  159    02 TWO FAMILY DWELLINGS                     2   \n",
              "7   2929  128    02 TWO FAMILY DWELLINGS                     2   \n",
              "8   2929  119    02 TWO FAMILY DWELLINGS                     2   \n",
              "9   3034  137    02 TWO FAMILY DWELLINGS                     2   \n",
              "\n",
              "   NoOfCommercialUnits  TotalNoOfUnits  LandAreaInSqFt  GrossAreaInSqFt  \\\n",
              "0                    0               2            1900             2394   \n",
              "1                    0               3            1687             3037   \n",
              "2                    0               2            2000             2400   \n",
              "3                    0               2            2356             2394   \n",
              "4                    0               2            3346             2308   \n",
              "5                    1               5            2000             5940   \n",
              "6                    0               2            2033             2400   \n",
              "7                    0               2            2361             2394   \n",
              "8                    0               2            2432             2394   \n",
              "9                    0               2            2663             3204   \n",
              "\n",
              "   YearOfConstruction  TaxClass_AtEvaluationTime BldgClass_AtEvaluationTime  \\\n",
              "0                1990                          1                         B1   \n",
              "1                2002                          1                         C0   \n",
              "2                1989                          1                         B1   \n",
              "3                1991                          1                         B1   \n",
              "4                1993                          1                         B1   \n",
              "5                2007                          2                         S4   \n",
              "6                1993                          1                         B1   \n",
              "7                1991                          1                         B1   \n",
              "8                1991                          1                         B1   \n",
              "9                1991                          1                         B1   \n",
              "\n",
              "   PropertyEvaluationvalue  year_evaluation  \n",
              "0                   540000             2014  \n",
              "1                   750000             2014  \n",
              "2                   470000             2014  \n",
              "3                   570000             2014  \n",
              "4                   640000             2015  \n",
              "5                  1350000             2015  \n",
              "6                   400000             2014  \n",
              "7                   514216             2015  \n",
              "8                   679000             2014  \n",
              "9                   520000             2014  "
            ]
          },
          "metadata": {},
          "execution_count": 6
        }
      ],
      "source": [
        "df_train.head(10)"
      ]
    },
    {
      "cell_type": "code",
      "source": [
        "df_test = pd.read_csv('/content/drive/MyDrive/PHD-Practice/mith_test_initial_dataset.csv')\n",
        "df_test_copy = df_test.copy()\n",
        "df_test.head()"
      ],
      "metadata": {
        "colab": {
          "base_uri": "https://localhost:8080/",
          "height": 409
        },
        "id": "TjGeHHS48MBO",
        "outputId": "3612cc10-4f1f-4a2f-b773-371e7b329fd0"
      },
      "execution_count": 7,
      "outputs": [
        {
          "output_type": "execute_result",
          "data": {
            "text/html": [
              "\n",
              "  <div id=\"df-750696df-12a0-4236-8c8f-e7c7814fa61d\">\n",
              "    <div class=\"colab-df-container\">\n",
              "      <div>\n",
              "<style scoped>\n",
              "    .dataframe tbody tr th:only-of-type {\n",
              "        vertical-align: middle;\n",
              "    }\n",
              "\n",
              "    .dataframe tbody tr th {\n",
              "        vertical-align: top;\n",
              "    }\n",
              "\n",
              "    .dataframe thead th {\n",
              "        text-align: right;\n",
              "    }\n",
              "</style>\n",
              "<table border=\"1\" class=\"dataframe\">\n",
              "  <thead>\n",
              "    <tr style=\"text-align: right;\">\n",
              "      <th></th>\n",
              "      <th>PropertyID</th>\n",
              "      <th>Borough</th>\n",
              "      <th>State</th>\n",
              "      <th>Surroundings</th>\n",
              "      <th>Address</th>\n",
              "      <th>ZipCode</th>\n",
              "      <th>Block</th>\n",
              "      <th>Lot</th>\n",
              "      <th>BldgClassCategory</th>\n",
              "      <th>NoOfResidentialUnits</th>\n",
              "      <th>NoOfCommercialUnits</th>\n",
              "      <th>TotalNoOfUnits</th>\n",
              "      <th>LandAreaInSqFt</th>\n",
              "      <th>GrossAreaInSqFt</th>\n",
              "      <th>YearOfConstruction</th>\n",
              "      <th>TaxClass_AtEvaluationTime</th>\n",
              "      <th>BldgClass_AtEvaluationTime</th>\n",
              "      <th>year_evaluation</th>\n",
              "    </tr>\n",
              "  </thead>\n",
              "  <tbody>\n",
              "    <tr>\n",
              "      <th>0</th>\n",
              "      <td>PR51101</td>\n",
              "      <td>1</td>\n",
              "      <td>NY</td>\n",
              "      <td>BATHGATE</td>\n",
              "      <td>3860 3 AVENUE</td>\n",
              "      <td>10457</td>\n",
              "      <td>2929</td>\n",
              "      <td>117</td>\n",
              "      <td>02  TWO FAMILY HOMES</td>\n",
              "      <td>2</td>\n",
              "      <td>0</td>\n",
              "      <td>2</td>\n",
              "      <td>2498</td>\n",
              "      <td>2394</td>\n",
              "      <td>1995</td>\n",
              "      <td>1</td>\n",
              "      <td>B1</td>\n",
              "      <td>2013</td>\n",
              "    </tr>\n",
              "    <tr>\n",
              "      <th>1</th>\n",
              "      <td>PR51102</td>\n",
              "      <td>1</td>\n",
              "      <td>NY</td>\n",
              "      <td>BATHGATE</td>\n",
              "      <td>455 E. 179TH STREET</td>\n",
              "      <td>10457</td>\n",
              "      <td>3036</td>\n",
              "      <td>65</td>\n",
              "      <td>02 TWO FAMILY DWELLINGS</td>\n",
              "      <td>2</td>\n",
              "      <td>0</td>\n",
              "      <td>2</td>\n",
              "      <td>2033</td>\n",
              "      <td>2340</td>\n",
              "      <td>1994</td>\n",
              "      <td>1</td>\n",
              "      <td>B1</td>\n",
              "      <td>2014</td>\n",
              "    </tr>\n",
              "    <tr>\n",
              "      <th>2</th>\n",
              "      <td>PR51103</td>\n",
              "      <td>1</td>\n",
              "      <td>NY</td>\n",
              "      <td>BATHGATE</td>\n",
              "      <td>4415 3 AVENUE</td>\n",
              "      <td>10457</td>\n",
              "      <td>3048</td>\n",
              "      <td>51</td>\n",
              "      <td>14 RENTALS - 4-10 UNIT</td>\n",
              "      <td>4</td>\n",
              "      <td>1</td>\n",
              "      <td>5</td>\n",
              "      <td>2500</td>\n",
              "      <td>6000</td>\n",
              "      <td>1963</td>\n",
              "      <td>2</td>\n",
              "      <td>S4</td>\n",
              "      <td>2015</td>\n",
              "    </tr>\n",
              "    <tr>\n",
              "      <th>3</th>\n",
              "      <td>PR51104</td>\n",
              "      <td>1</td>\n",
              "      <td>NY</td>\n",
              "      <td>BATHGATE</td>\n",
              "      <td>407 EAST 174 STREET</td>\n",
              "      <td>10457</td>\n",
              "      <td>2899</td>\n",
              "      <td>34</td>\n",
              "      <td>30 WAREHOUSES</td>\n",
              "      <td>0</td>\n",
              "      <td>1</td>\n",
              "      <td>1</td>\n",
              "      <td>3439</td>\n",
              "      <td>3320</td>\n",
              "      <td>1951</td>\n",
              "      <td>4</td>\n",
              "      <td>E1</td>\n",
              "      <td>2015</td>\n",
              "    </tr>\n",
              "    <tr>\n",
              "      <th>4</th>\n",
              "      <td>PR51105</td>\n",
              "      <td>1</td>\n",
              "      <td>NY</td>\n",
              "      <td>EAST TREMONT</td>\n",
              "      <td>2175 CROTONA AVENUE</td>\n",
              "      <td>10457</td>\n",
              "      <td>3083</td>\n",
              "      <td>40</td>\n",
              "      <td>03 THREE FAMILY DWELLINGS</td>\n",
              "      <td>3</td>\n",
              "      <td>0</td>\n",
              "      <td>3</td>\n",
              "      <td>1348</td>\n",
              "      <td>2931</td>\n",
              "      <td>1997</td>\n",
              "      <td>1</td>\n",
              "      <td>C0</td>\n",
              "      <td>2014</td>\n",
              "    </tr>\n",
              "  </tbody>\n",
              "</table>\n",
              "</div>\n",
              "      <button class=\"colab-df-convert\" onclick=\"convertToInteractive('df-750696df-12a0-4236-8c8f-e7c7814fa61d')\"\n",
              "              title=\"Convert this dataframe to an interactive table.\"\n",
              "              style=\"display:none;\">\n",
              "        \n",
              "  <svg xmlns=\"http://www.w3.org/2000/svg\" height=\"24px\"viewBox=\"0 0 24 24\"\n",
              "       width=\"24px\">\n",
              "    <path d=\"M0 0h24v24H0V0z\" fill=\"none\"/>\n",
              "    <path d=\"M18.56 5.44l.94 2.06.94-2.06 2.06-.94-2.06-.94-.94-2.06-.94 2.06-2.06.94zm-11 1L8.5 8.5l.94-2.06 2.06-.94-2.06-.94L8.5 2.5l-.94 2.06-2.06.94zm10 10l.94 2.06.94-2.06 2.06-.94-2.06-.94-.94-2.06-.94 2.06-2.06.94z\"/><path d=\"M17.41 7.96l-1.37-1.37c-.4-.4-.92-.59-1.43-.59-.52 0-1.04.2-1.43.59L10.3 9.45l-7.72 7.72c-.78.78-.78 2.05 0 2.83L4 21.41c.39.39.9.59 1.41.59.51 0 1.02-.2 1.41-.59l7.78-7.78 2.81-2.81c.8-.78.8-2.07 0-2.86zM5.41 20L4 18.59l7.72-7.72 1.47 1.35L5.41 20z\"/>\n",
              "  </svg>\n",
              "      </button>\n",
              "      \n",
              "  <style>\n",
              "    .colab-df-container {\n",
              "      display:flex;\n",
              "      flex-wrap:wrap;\n",
              "      gap: 12px;\n",
              "    }\n",
              "\n",
              "    .colab-df-convert {\n",
              "      background-color: #E8F0FE;\n",
              "      border: none;\n",
              "      border-radius: 50%;\n",
              "      cursor: pointer;\n",
              "      display: none;\n",
              "      fill: #1967D2;\n",
              "      height: 32px;\n",
              "      padding: 0 0 0 0;\n",
              "      width: 32px;\n",
              "    }\n",
              "\n",
              "    .colab-df-convert:hover {\n",
              "      background-color: #E2EBFA;\n",
              "      box-shadow: 0px 1px 2px rgba(60, 64, 67, 0.3), 0px 1px 3px 1px rgba(60, 64, 67, 0.15);\n",
              "      fill: #174EA6;\n",
              "    }\n",
              "\n",
              "    [theme=dark] .colab-df-convert {\n",
              "      background-color: #3B4455;\n",
              "      fill: #D2E3FC;\n",
              "    }\n",
              "\n",
              "    [theme=dark] .colab-df-convert:hover {\n",
              "      background-color: #434B5C;\n",
              "      box-shadow: 0px 1px 3px 1px rgba(0, 0, 0, 0.15);\n",
              "      filter: drop-shadow(0px 1px 2px rgba(0, 0, 0, 0.3));\n",
              "      fill: #FFFFFF;\n",
              "    }\n",
              "  </style>\n",
              "\n",
              "      <script>\n",
              "        const buttonEl =\n",
              "          document.querySelector('#df-750696df-12a0-4236-8c8f-e7c7814fa61d button.colab-df-convert');\n",
              "        buttonEl.style.display =\n",
              "          google.colab.kernel.accessAllowed ? 'block' : 'none';\n",
              "\n",
              "        async function convertToInteractive(key) {\n",
              "          const element = document.querySelector('#df-750696df-12a0-4236-8c8f-e7c7814fa61d');\n",
              "          const dataTable =\n",
              "            await google.colab.kernel.invokeFunction('convertToInteractive',\n",
              "                                                     [key], {});\n",
              "          if (!dataTable) return;\n",
              "\n",
              "          const docLinkHtml = 'Like what you see? Visit the ' +\n",
              "            '<a target=\"_blank\" href=https://colab.research.google.com/notebooks/data_table.ipynb>data table notebook</a>'\n",
              "            + ' to learn more about interactive tables.';\n",
              "          element.innerHTML = '';\n",
              "          dataTable['output_type'] = 'display_data';\n",
              "          await google.colab.output.renderOutput(dataTable, element);\n",
              "          const docLink = document.createElement('div');\n",
              "          docLink.innerHTML = docLinkHtml;\n",
              "          element.appendChild(docLink);\n",
              "        }\n",
              "      </script>\n",
              "    </div>\n",
              "  </div>\n",
              "  "
            ],
            "text/plain": [
              "  PropertyID  Borough State  Surroundings              Address  ZipCode  \\\n",
              "0    PR51101        1    NY      BATHGATE        3860 3 AVENUE    10457   \n",
              "1    PR51102        1    NY      BATHGATE  455 E. 179TH STREET    10457   \n",
              "2    PR51103        1    NY      BATHGATE        4415 3 AVENUE    10457   \n",
              "3    PR51104        1    NY      BATHGATE  407 EAST 174 STREET    10457   \n",
              "4    PR51105        1    NY  EAST TREMONT  2175 CROTONA AVENUE    10457   \n",
              "\n",
              "   Block  Lot          BldgClassCategory  NoOfResidentialUnits  \\\n",
              "0   2929  117       02  TWO FAMILY HOMES                     2   \n",
              "1   3036   65    02 TWO FAMILY DWELLINGS                     2   \n",
              "2   3048   51     14 RENTALS - 4-10 UNIT                     4   \n",
              "3   2899   34              30 WAREHOUSES                     0   \n",
              "4   3083   40  03 THREE FAMILY DWELLINGS                     3   \n",
              "\n",
              "   NoOfCommercialUnits  TotalNoOfUnits  LandAreaInSqFt  GrossAreaInSqFt  \\\n",
              "0                    0               2            2498             2394   \n",
              "1                    0               2            2033             2340   \n",
              "2                    1               5            2500             6000   \n",
              "3                    1               1            3439             3320   \n",
              "4                    0               3            1348             2931   \n",
              "\n",
              "   YearOfConstruction  TaxClass_AtEvaluationTime BldgClass_AtEvaluationTime  \\\n",
              "0                1995                          1                         B1   \n",
              "1                1994                          1                         B1   \n",
              "2                1963                          2                         S4   \n",
              "3                1951                          4                         E1   \n",
              "4                1997                          1                         C0   \n",
              "\n",
              "   year_evaluation  \n",
              "0             2013  \n",
              "1             2014  \n",
              "2             2015  \n",
              "3             2015  \n",
              "4             2014  "
            ]
          },
          "metadata": {},
          "execution_count": 7
        }
      ]
    },
    {
      "cell_type": "code",
      "source": [
        "sub=pd.read_csv('/content/drive/MyDrive/PHD-Practice/mith_test_initial_dataset.csv')\n",
        "for i in sub.columns:\n",
        "    if i != 'PropertyID':\n",
        "        del sub[i]\n",
        "sub['PropertyEvaluationvalue'] = -1\n",
        "del sub['PropertyEvaluationvalue']"
      ],
      "metadata": {
        "id": "m8rgrfLU8xtR"
      },
      "execution_count": 8,
      "outputs": []
    },
    {
      "cell_type": "code",
      "source": [
        "#df_test['PropertyEvaluationvalue'] = 0\n",
        "#append test to train for feature creation\n",
        "#full=df_train.append(df_test)\n",
        "#full=full.reset_index()\n",
        "#full=full.drop('PropertyId',axis=1)\n",
        "#print(full.shape)"
      ],
      "metadata": {
        "id": "LsOcuX1L8B5m"
      },
      "execution_count": 9,
      "outputs": []
    },
    {
      "cell_type": "markdown",
      "metadata": {
        "id": "uTl1FZOp-bEn"
      },
      "source": [
        "### Duplicate entry check and removal:"
      ]
    },
    {
      "cell_type": "code",
      "execution_count": 10,
      "metadata": {
        "colab": {
          "base_uri": "https://localhost:8080/"
        },
        "id": "DmN0wKhO-UJY",
        "outputId": "4f8d3a10-3487-4bf4-d554-f180343c53a2"
      },
      "outputs": [
        {
          "output_type": "execute_result",
          "data": {
            "text/plain": [
              "(0, 19)"
            ]
          },
          "metadata": {},
          "execution_count": 10
        }
      ],
      "source": [
        "duplicate_train = df_train[df_train.duplicated('PropertyID')]\n",
        "duplicate_train.shape"
      ]
    },
    {
      "cell_type": "code",
      "source": [
        "duplicate_test = df_test[df_test.duplicated('PropertyID')]\n",
        "duplicate_test.shape"
      ],
      "metadata": {
        "colab": {
          "base_uri": "https://localhost:8080/"
        },
        "id": "EnQdeKx68YmF",
        "outputId": "24751fa8-c973-45d2-c68c-9e5703d65e62"
      },
      "execution_count": 11,
      "outputs": [
        {
          "output_type": "execute_result",
          "data": {
            "text/plain": [
              "(0, 18)"
            ]
          },
          "metadata": {},
          "execution_count": 11
        }
      ]
    },
    {
      "cell_type": "code",
      "execution_count": 12,
      "metadata": {
        "colab": {
          "base_uri": "https://localhost:8080/"
        },
        "id": "DMR62j8A_FXT",
        "outputId": "04573001-9487-4032-a58e-a3b28f71eb8c"
      },
      "outputs": [
        {
          "output_type": "execute_result",
          "data": {
            "text/plain": [
              "Index(['PropertyID', 'Borough', 'State', 'Surroundings', 'Address', 'ZipCode',\n",
              "       'Block', 'Lot', 'BldgClassCategory', 'NoOfResidentialUnits',\n",
              "       'NoOfCommercialUnits', 'TotalNoOfUnits', 'LandAreaInSqFt',\n",
              "       'GrossAreaInSqFt', 'YearOfConstruction', 'TaxClass_AtEvaluationTime',\n",
              "       'BldgClass_AtEvaluationTime', 'PropertyEvaluationvalue',\n",
              "       'year_evaluation'],\n",
              "      dtype='object')"
            ]
          },
          "metadata": {},
          "execution_count": 12
        }
      ],
      "source": [
        "df_train.columns"
      ]
    },
    {
      "cell_type": "code",
      "source": [
        "df_test.columns"
      ],
      "metadata": {
        "colab": {
          "base_uri": "https://localhost:8080/"
        },
        "id": "r4qN32ie8iK4",
        "outputId": "e78fbfc7-d6f1-4ff1-e40d-c9efe302a3f5"
      },
      "execution_count": 13,
      "outputs": [
        {
          "output_type": "execute_result",
          "data": {
            "text/plain": [
              "Index(['PropertyID', 'Borough', 'State', 'Surroundings', 'Address', 'ZipCode',\n",
              "       'Block', 'Lot', 'BldgClassCategory', 'NoOfResidentialUnits',\n",
              "       'NoOfCommercialUnits', 'TotalNoOfUnits', 'LandAreaInSqFt',\n",
              "       'GrossAreaInSqFt', 'YearOfConstruction', 'TaxClass_AtEvaluationTime',\n",
              "       'BldgClass_AtEvaluationTime', 'year_evaluation'],\n",
              "      dtype='object')"
            ]
          },
          "metadata": {},
          "execution_count": 13
        }
      ]
    },
    {
      "cell_type": "code",
      "source": [
        "df_train.dtypes"
      ],
      "metadata": {
        "colab": {
          "base_uri": "https://localhost:8080/"
        },
        "id": "j1RtsScsU4H3",
        "outputId": "65c8bc9d-7cbe-47f3-b6c7-d51428d7c7de"
      },
      "execution_count": 14,
      "outputs": [
        {
          "output_type": "execute_result",
          "data": {
            "text/plain": [
              "PropertyID                    object\n",
              "Borough                        int64\n",
              "State                         object\n",
              "Surroundings                  object\n",
              "Address                       object\n",
              "ZipCode                        int64\n",
              "Block                          int64\n",
              "Lot                            int64\n",
              "BldgClassCategory             object\n",
              "NoOfResidentialUnits           int64\n",
              "NoOfCommercialUnits            int64\n",
              "TotalNoOfUnits                 int64\n",
              "LandAreaInSqFt                 int64\n",
              "GrossAreaInSqFt                int64\n",
              "YearOfConstruction             int64\n",
              "TaxClass_AtEvaluationTime      int64\n",
              "BldgClass_AtEvaluationTime    object\n",
              "PropertyEvaluationvalue        int64\n",
              "year_evaluation                int64\n",
              "dtype: object"
            ]
          },
          "metadata": {},
          "execution_count": 14
        }
      ]
    },
    {
      "cell_type": "code",
      "source": [
        "df_train=df_train.set_index('PropertyID')\n",
        "df_test=df_test.set_index('PropertyID')"
      ],
      "metadata": {
        "id": "P8v0bN075Sy9"
      },
      "execution_count": 15,
      "outputs": []
    },
    {
      "cell_type": "code",
      "source": [
        "df_train['ageofproperty'] = df_train['year_evaluation'] - df_train['YearOfConstruction']\n",
        "df_train=df_train.drop(columns=['year_evaluation','YearOfConstruction','State','Address','Block','Lot','Surroundings'])\n",
        "df_test['ageofproperty'] = df_test['year_evaluation'] - df_test['YearOfConstruction']\n",
        "df_test=df_test.drop(columns=['year_evaluation','YearOfConstruction','State','Address','Block','Lot','Surroundings'])"
      ],
      "metadata": {
        "id": "5EOihMUt-BYr"
      },
      "execution_count": 16,
      "outputs": []
    },
    {
      "cell_type": "code",
      "execution_count": 17,
      "metadata": {
        "id": "YIK7pojs_79B"
      },
      "outputs": [],
      "source": [
        "brand_dictionary = ['A', 'B', 'C', 'D', 'R', 'S', 'H', 'K', 'L', 'O', 'E', 'F','G','T','U','V','I','J','M','N','P','Q','W','Y','Z']\n",
        "def match_dictionary(string, dictionary):\n",
        "    for brand in dictionary:\n",
        "        if(re.search(brand, string, re.IGNORECASE)):\n",
        "            return brand\n",
        "    return \"Other\""
      ]
    },
    {
      "cell_type": "code",
      "source": [
        "df_train['bldg_class'] = df_train['BldgClass_AtEvaluationTime'].apply(lambda x: match_dictionary(x, brand_dictionary))\n",
        "df_train=df_train.drop(columns=['BldgClass_AtEvaluationTime','BldgClassCategory'])\n",
        "df_test['bldg_class'] = df_test['BldgClass_AtEvaluationTime'].apply(lambda x: match_dictionary(x, brand_dictionary))\n",
        "df_test=df_test.drop(columns=['BldgClass_AtEvaluationTime','BldgClassCategory'])"
      ],
      "metadata": {
        "id": "PuRB9w3D7Xm4"
      },
      "execution_count": 18,
      "outputs": []
    },
    {
      "cell_type": "code",
      "execution_count": 19,
      "metadata": {
        "colab": {
          "base_uri": "https://localhost:8080/",
          "height": 302
        },
        "id": "Fhu377OjGw2r",
        "outputId": "d84303cc-1bd5-454a-cf0f-2c5aa23a8200"
      },
      "outputs": [
        {
          "output_type": "execute_result",
          "data": {
            "text/html": [
              "\n",
              "  <div id=\"df-cb99dc0d-229b-45db-8bfe-af01abb71286\">\n",
              "    <div class=\"colab-df-container\">\n",
              "      <div>\n",
              "<style scoped>\n",
              "    .dataframe tbody tr th:only-of-type {\n",
              "        vertical-align: middle;\n",
              "    }\n",
              "\n",
              "    .dataframe tbody tr th {\n",
              "        vertical-align: top;\n",
              "    }\n",
              "\n",
              "    .dataframe thead th {\n",
              "        text-align: right;\n",
              "    }\n",
              "</style>\n",
              "<table border=\"1\" class=\"dataframe\">\n",
              "  <thead>\n",
              "    <tr style=\"text-align: right;\">\n",
              "      <th></th>\n",
              "      <th>Borough</th>\n",
              "      <th>ZipCode</th>\n",
              "      <th>NoOfResidentialUnits</th>\n",
              "      <th>NoOfCommercialUnits</th>\n",
              "      <th>TotalNoOfUnits</th>\n",
              "      <th>LandAreaInSqFt</th>\n",
              "      <th>GrossAreaInSqFt</th>\n",
              "      <th>TaxClass_AtEvaluationTime</th>\n",
              "      <th>PropertyEvaluationvalue</th>\n",
              "      <th>ageofproperty</th>\n",
              "      <th>bldg_class</th>\n",
              "    </tr>\n",
              "    <tr>\n",
              "      <th>PropertyID</th>\n",
              "      <th></th>\n",
              "      <th></th>\n",
              "      <th></th>\n",
              "      <th></th>\n",
              "      <th></th>\n",
              "      <th></th>\n",
              "      <th></th>\n",
              "      <th></th>\n",
              "      <th></th>\n",
              "      <th></th>\n",
              "      <th></th>\n",
              "    </tr>\n",
              "  </thead>\n",
              "  <tbody>\n",
              "    <tr>\n",
              "      <th>PR11101</th>\n",
              "      <td>1</td>\n",
              "      <td>10456</td>\n",
              "      <td>2</td>\n",
              "      <td>0</td>\n",
              "      <td>2</td>\n",
              "      <td>1900</td>\n",
              "      <td>2394</td>\n",
              "      <td>1</td>\n",
              "      <td>540000</td>\n",
              "      <td>24</td>\n",
              "      <td>B</td>\n",
              "    </tr>\n",
              "    <tr>\n",
              "      <th>PR11102</th>\n",
              "      <td>1</td>\n",
              "      <td>10457</td>\n",
              "      <td>3</td>\n",
              "      <td>0</td>\n",
              "      <td>3</td>\n",
              "      <td>1687</td>\n",
              "      <td>3037</td>\n",
              "      <td>1</td>\n",
              "      <td>750000</td>\n",
              "      <td>12</td>\n",
              "      <td>C</td>\n",
              "    </tr>\n",
              "    <tr>\n",
              "      <th>PR11103</th>\n",
              "      <td>1</td>\n",
              "      <td>10457</td>\n",
              "      <td>2</td>\n",
              "      <td>0</td>\n",
              "      <td>2</td>\n",
              "      <td>2000</td>\n",
              "      <td>2400</td>\n",
              "      <td>1</td>\n",
              "      <td>470000</td>\n",
              "      <td>25</td>\n",
              "      <td>B</td>\n",
              "    </tr>\n",
              "    <tr>\n",
              "      <th>PR11104</th>\n",
              "      <td>1</td>\n",
              "      <td>10457</td>\n",
              "      <td>2</td>\n",
              "      <td>0</td>\n",
              "      <td>2</td>\n",
              "      <td>2356</td>\n",
              "      <td>2394</td>\n",
              "      <td>1</td>\n",
              "      <td>570000</td>\n",
              "      <td>23</td>\n",
              "      <td>B</td>\n",
              "    </tr>\n",
              "    <tr>\n",
              "      <th>PR11105</th>\n",
              "      <td>1</td>\n",
              "      <td>10457</td>\n",
              "      <td>2</td>\n",
              "      <td>0</td>\n",
              "      <td>2</td>\n",
              "      <td>3346</td>\n",
              "      <td>2308</td>\n",
              "      <td>1</td>\n",
              "      <td>640000</td>\n",
              "      <td>22</td>\n",
              "      <td>B</td>\n",
              "    </tr>\n",
              "  </tbody>\n",
              "</table>\n",
              "</div>\n",
              "      <button class=\"colab-df-convert\" onclick=\"convertToInteractive('df-cb99dc0d-229b-45db-8bfe-af01abb71286')\"\n",
              "              title=\"Convert this dataframe to an interactive table.\"\n",
              "              style=\"display:none;\">\n",
              "        \n",
              "  <svg xmlns=\"http://www.w3.org/2000/svg\" height=\"24px\"viewBox=\"0 0 24 24\"\n",
              "       width=\"24px\">\n",
              "    <path d=\"M0 0h24v24H0V0z\" fill=\"none\"/>\n",
              "    <path d=\"M18.56 5.44l.94 2.06.94-2.06 2.06-.94-2.06-.94-.94-2.06-.94 2.06-2.06.94zm-11 1L8.5 8.5l.94-2.06 2.06-.94-2.06-.94L8.5 2.5l-.94 2.06-2.06.94zm10 10l.94 2.06.94-2.06 2.06-.94-2.06-.94-.94-2.06-.94 2.06-2.06.94z\"/><path d=\"M17.41 7.96l-1.37-1.37c-.4-.4-.92-.59-1.43-.59-.52 0-1.04.2-1.43.59L10.3 9.45l-7.72 7.72c-.78.78-.78 2.05 0 2.83L4 21.41c.39.39.9.59 1.41.59.51 0 1.02-.2 1.41-.59l7.78-7.78 2.81-2.81c.8-.78.8-2.07 0-2.86zM5.41 20L4 18.59l7.72-7.72 1.47 1.35L5.41 20z\"/>\n",
              "  </svg>\n",
              "      </button>\n",
              "      \n",
              "  <style>\n",
              "    .colab-df-container {\n",
              "      display:flex;\n",
              "      flex-wrap:wrap;\n",
              "      gap: 12px;\n",
              "    }\n",
              "\n",
              "    .colab-df-convert {\n",
              "      background-color: #E8F0FE;\n",
              "      border: none;\n",
              "      border-radius: 50%;\n",
              "      cursor: pointer;\n",
              "      display: none;\n",
              "      fill: #1967D2;\n",
              "      height: 32px;\n",
              "      padding: 0 0 0 0;\n",
              "      width: 32px;\n",
              "    }\n",
              "\n",
              "    .colab-df-convert:hover {\n",
              "      background-color: #E2EBFA;\n",
              "      box-shadow: 0px 1px 2px rgba(60, 64, 67, 0.3), 0px 1px 3px 1px rgba(60, 64, 67, 0.15);\n",
              "      fill: #174EA6;\n",
              "    }\n",
              "\n",
              "    [theme=dark] .colab-df-convert {\n",
              "      background-color: #3B4455;\n",
              "      fill: #D2E3FC;\n",
              "    }\n",
              "\n",
              "    [theme=dark] .colab-df-convert:hover {\n",
              "      background-color: #434B5C;\n",
              "      box-shadow: 0px 1px 3px 1px rgba(0, 0, 0, 0.15);\n",
              "      filter: drop-shadow(0px 1px 2px rgba(0, 0, 0, 0.3));\n",
              "      fill: #FFFFFF;\n",
              "    }\n",
              "  </style>\n",
              "\n",
              "      <script>\n",
              "        const buttonEl =\n",
              "          document.querySelector('#df-cb99dc0d-229b-45db-8bfe-af01abb71286 button.colab-df-convert');\n",
              "        buttonEl.style.display =\n",
              "          google.colab.kernel.accessAllowed ? 'block' : 'none';\n",
              "\n",
              "        async function convertToInteractive(key) {\n",
              "          const element = document.querySelector('#df-cb99dc0d-229b-45db-8bfe-af01abb71286');\n",
              "          const dataTable =\n",
              "            await google.colab.kernel.invokeFunction('convertToInteractive',\n",
              "                                                     [key], {});\n",
              "          if (!dataTable) return;\n",
              "\n",
              "          const docLinkHtml = 'Like what you see? Visit the ' +\n",
              "            '<a target=\"_blank\" href=https://colab.research.google.com/notebooks/data_table.ipynb>data table notebook</a>'\n",
              "            + ' to learn more about interactive tables.';\n",
              "          element.innerHTML = '';\n",
              "          dataTable['output_type'] = 'display_data';\n",
              "          await google.colab.output.renderOutput(dataTable, element);\n",
              "          const docLink = document.createElement('div');\n",
              "          docLink.innerHTML = docLinkHtml;\n",
              "          element.appendChild(docLink);\n",
              "        }\n",
              "      </script>\n",
              "    </div>\n",
              "  </div>\n",
              "  "
            ],
            "text/plain": [
              "            Borough  ZipCode  NoOfResidentialUnits  NoOfCommercialUnits  \\\n",
              "PropertyID                                                                \n",
              "PR11101           1    10456                     2                    0   \n",
              "PR11102           1    10457                     3                    0   \n",
              "PR11103           1    10457                     2                    0   \n",
              "PR11104           1    10457                     2                    0   \n",
              "PR11105           1    10457                     2                    0   \n",
              "\n",
              "            TotalNoOfUnits  LandAreaInSqFt  GrossAreaInSqFt  \\\n",
              "PropertyID                                                    \n",
              "PR11101                  2            1900             2394   \n",
              "PR11102                  3            1687             3037   \n",
              "PR11103                  2            2000             2400   \n",
              "PR11104                  2            2356             2394   \n",
              "PR11105                  2            3346             2308   \n",
              "\n",
              "            TaxClass_AtEvaluationTime  PropertyEvaluationvalue  ageofproperty  \\\n",
              "PropertyID                                                                      \n",
              "PR11101                             1                   540000             24   \n",
              "PR11102                             1                   750000             12   \n",
              "PR11103                             1                   470000             25   \n",
              "PR11104                             1                   570000             23   \n",
              "PR11105                             1                   640000             22   \n",
              "\n",
              "           bldg_class  \n",
              "PropertyID             \n",
              "PR11101             B  \n",
              "PR11102             C  \n",
              "PR11103             B  \n",
              "PR11104             B  \n",
              "PR11105             B  "
            ]
          },
          "metadata": {},
          "execution_count": 19
        }
      ],
      "source": [
        "df_train.head()"
      ]
    },
    {
      "cell_type": "code",
      "source": [
        "df_train['Borough'] = df_train['Borough'].astype(str)\n",
        "df_test['Borough'] = df_test['Borough'].astype(str)\n",
        "df_train['TaxClass_AtEvaluationTime'] = df_train['TaxClass_AtEvaluationTime'].astype(str)\n",
        "df_test['TaxClass_AtEvaluationTime'] = df_test['TaxClass_AtEvaluationTime'].astype(str)"
      ],
      "metadata": {
        "id": "62VY6rXYiVJu"
      },
      "execution_count": 20,
      "outputs": []
    },
    {
      "cell_type": "code",
      "source": [
        "zipprice=df_train.groupby('ZipCode')['PropertyEvaluationvalue'].mean()\n",
        "# target encoding using zipcode column\n",
        "df_train['ZipCode'] = df_train['ZipCode'].map(zipprice)\n",
        "# target encoding using zipcode column\n",
        "df_test['ZipCode'] = df_test['ZipCode'].map(zipprice)"
      ],
      "metadata": {
        "id": "auvkd-34BJgm"
      },
      "execution_count": 21,
      "outputs": []
    },
    {
      "cell_type": "code",
      "execution_count": 22,
      "metadata": {
        "colab": {
          "base_uri": "https://localhost:8080/"
        },
        "id": "sC-HuUgxJQFC",
        "outputId": "fcf47129-c763-4c5a-ba25-83d8cf66bccc"
      },
      "outputs": [
        {
          "output_type": "execute_result",
          "data": {
            "text/plain": [
              "['Borough', 'TaxClass_AtEvaluationTime', 'bldg_class']"
            ]
          },
          "metadata": {},
          "execution_count": 22
        }
      ],
      "source": [
        "cat_vars = [var for var in df_train.columns if df_train[var].dtypes=='O']\n",
        "cat_vars"
      ]
    },
    {
      "cell_type": "code",
      "execution_count": 23,
      "metadata": {
        "colab": {
          "base_uri": "https://localhost:8080/"
        },
        "id": "n9uDSYaiJpy9",
        "outputId": "e1bd3a52-b662-454e-b9bf-ed22c81dcaf6"
      },
      "outputs": [
        {
          "output_type": "execute_result",
          "data": {
            "text/plain": [
              "(16810, 11)"
            ]
          },
          "metadata": {},
          "execution_count": 23
        }
      ],
      "source": [
        "df_train.shape"
      ]
    },
    {
      "cell_type": "code",
      "execution_count": 24,
      "metadata": {
        "colab": {
          "base_uri": "https://localhost:8080/"
        },
        "id": "e6m8qpEWJ5rK",
        "outputId": "0966cb8c-e193-4788-dc53-9c6cb22c154f"
      },
      "outputs": [
        {
          "output_type": "stream",
          "name": "stdout",
          "text": [
            "##### Performing Label Encoding on Categorical Variables #####\n",
            "Categorical variables:  ['Borough', 'TaxClass_AtEvaluationTime', 'bldg_class']\n",
            "##### Performing Label Encoding on Categorical Variables #####\n",
            "Categorical variables:  ['Borough', 'TaxClass_AtEvaluationTime', 'bldg_class']\n"
          ]
        }
      ],
      "source": [
        "def encode_categorical_variables(df_train, cat_vars):\n",
        "    print('##### Performing Label Encoding on Categorical Variables #####')\n",
        "    print('Categorical variables: ', cat_vars)\n",
        "    for i in range(len(cat_vars)):\n",
        "        var = cat_vars[i]\n",
        "        var_le = LabelEncoder()\n",
        "        var_labels = var_le.fit_transform(df_train[var])\n",
        "        var_mappings = {index: label for index, label in enumerate(var_le.classes_)}\n",
        "        df_train[(var + '_labels')] = var_labels\n",
        "        df_train.drop(columns=var, axis=1, inplace=True)\n",
        "    return df_train\n",
        "\n",
        "df_train = encode_categorical_variables(df_train, cat_vars)\n",
        "df_test = encode_categorical_variables(df_test, cat_vars)"
      ]
    },
    {
      "cell_type": "code",
      "execution_count": 25,
      "metadata": {
        "colab": {
          "base_uri": "https://localhost:8080/"
        },
        "id": "BVWM-HVHJymb",
        "outputId": "b3f8d69e-ab7b-474d-d9d8-eca93ad2eb5b"
      },
      "outputs": [
        {
          "output_type": "execute_result",
          "data": {
            "text/plain": [
              "(15294, 11)"
            ]
          },
          "metadata": {},
          "execution_count": 25
        }
      ],
      "source": [
        "z = np.abs(stats.zscore(df_train))\n",
        "no_out_df_train = df_train[(z<3).all(axis=1)]\n",
        "no_out_df_train.shape"
      ]
    },
    {
      "cell_type": "code",
      "execution_count": 26,
      "metadata": {
        "colab": {
          "base_uri": "https://localhost:8080/",
          "height": 519
        },
        "id": "cgQgYv4vJ0j0",
        "outputId": "9276c3bc-b716-43f8-ac02-47f013c0a205"
      },
      "outputs": [
        {
          "output_type": "execute_result",
          "data": {
            "text/html": [
              "\n",
              "  <div id=\"df-f2992af0-dd99-49d8-b85f-52f0b2e69176\">\n",
              "    <div class=\"colab-df-container\">\n",
              "      <div>\n",
              "<style scoped>\n",
              "    .dataframe tbody tr th:only-of-type {\n",
              "        vertical-align: middle;\n",
              "    }\n",
              "\n",
              "    .dataframe tbody tr th {\n",
              "        vertical-align: top;\n",
              "    }\n",
              "\n",
              "    .dataframe thead th {\n",
              "        text-align: right;\n",
              "    }\n",
              "</style>\n",
              "<table border=\"1\" class=\"dataframe\">\n",
              "  <thead>\n",
              "    <tr style=\"text-align: right;\">\n",
              "      <th></th>\n",
              "      <th>ZipCode</th>\n",
              "      <th>NoOfResidentialUnits</th>\n",
              "      <th>NoOfCommercialUnits</th>\n",
              "      <th>TotalNoOfUnits</th>\n",
              "      <th>LandAreaInSqFt</th>\n",
              "      <th>GrossAreaInSqFt</th>\n",
              "      <th>PropertyEvaluationvalue</th>\n",
              "      <th>ageofproperty</th>\n",
              "      <th>Borough_labels</th>\n",
              "      <th>TaxClass_AtEvaluationTime_labels</th>\n",
              "      <th>bldg_class_labels</th>\n",
              "    </tr>\n",
              "    <tr>\n",
              "      <th>PropertyID</th>\n",
              "      <th></th>\n",
              "      <th></th>\n",
              "      <th></th>\n",
              "      <th></th>\n",
              "      <th></th>\n",
              "      <th></th>\n",
              "      <th></th>\n",
              "      <th></th>\n",
              "      <th></th>\n",
              "      <th></th>\n",
              "      <th></th>\n",
              "    </tr>\n",
              "  </thead>\n",
              "  <tbody>\n",
              "    <tr>\n",
              "      <th>PR11101</th>\n",
              "      <td>6.474823e+05</td>\n",
              "      <td>2</td>\n",
              "      <td>0</td>\n",
              "      <td>2</td>\n",
              "      <td>1900</td>\n",
              "      <td>2394</td>\n",
              "      <td>540000</td>\n",
              "      <td>24</td>\n",
              "      <td>0</td>\n",
              "      <td>0</td>\n",
              "      <td>1</td>\n",
              "    </tr>\n",
              "    <tr>\n",
              "      <th>PR11102</th>\n",
              "      <td>8.920597e+05</td>\n",
              "      <td>3</td>\n",
              "      <td>0</td>\n",
              "      <td>3</td>\n",
              "      <td>1687</td>\n",
              "      <td>3037</td>\n",
              "      <td>750000</td>\n",
              "      <td>12</td>\n",
              "      <td>0</td>\n",
              "      <td>0</td>\n",
              "      <td>2</td>\n",
              "    </tr>\n",
              "    <tr>\n",
              "      <th>PR11103</th>\n",
              "      <td>8.920597e+05</td>\n",
              "      <td>2</td>\n",
              "      <td>0</td>\n",
              "      <td>2</td>\n",
              "      <td>2000</td>\n",
              "      <td>2400</td>\n",
              "      <td>470000</td>\n",
              "      <td>25</td>\n",
              "      <td>0</td>\n",
              "      <td>0</td>\n",
              "      <td>1</td>\n",
              "    </tr>\n",
              "    <tr>\n",
              "      <th>PR11104</th>\n",
              "      <td>8.920597e+05</td>\n",
              "      <td>2</td>\n",
              "      <td>0</td>\n",
              "      <td>2</td>\n",
              "      <td>2356</td>\n",
              "      <td>2394</td>\n",
              "      <td>570000</td>\n",
              "      <td>23</td>\n",
              "      <td>0</td>\n",
              "      <td>0</td>\n",
              "      <td>1</td>\n",
              "    </tr>\n",
              "    <tr>\n",
              "      <th>PR11105</th>\n",
              "      <td>8.920597e+05</td>\n",
              "      <td>2</td>\n",
              "      <td>0</td>\n",
              "      <td>2</td>\n",
              "      <td>3346</td>\n",
              "      <td>2308</td>\n",
              "      <td>640000</td>\n",
              "      <td>22</td>\n",
              "      <td>0</td>\n",
              "      <td>0</td>\n",
              "      <td>1</td>\n",
              "    </tr>\n",
              "    <tr>\n",
              "      <th>...</th>\n",
              "      <td>...</td>\n",
              "      <td>...</td>\n",
              "      <td>...</td>\n",
              "      <td>...</td>\n",
              "      <td>...</td>\n",
              "      <td>...</td>\n",
              "      <td>...</td>\n",
              "      <td>...</td>\n",
              "      <td>...</td>\n",
              "      <td>...</td>\n",
              "      <td>...</td>\n",
              "    </tr>\n",
              "    <tr>\n",
              "      <th>PR27878</th>\n",
              "      <td>1.236902e+06</td>\n",
              "      <td>1</td>\n",
              "      <td>0</td>\n",
              "      <td>1</td>\n",
              "      <td>3055</td>\n",
              "      <td>1084</td>\n",
              "      <td>915000</td>\n",
              "      <td>35</td>\n",
              "      <td>3</td>\n",
              "      <td>1</td>\n",
              "      <td>15</td>\n",
              "    </tr>\n",
              "    <tr>\n",
              "      <th>PR27879</th>\n",
              "      <td>1.236902e+06</td>\n",
              "      <td>1</td>\n",
              "      <td>0</td>\n",
              "      <td>1</td>\n",
              "      <td>2465</td>\n",
              "      <td>1320</td>\n",
              "      <td>1900000</td>\n",
              "      <td>12</td>\n",
              "      <td>3</td>\n",
              "      <td>1</td>\n",
              "      <td>15</td>\n",
              "    </tr>\n",
              "    <tr>\n",
              "      <th>PR27880</th>\n",
              "      <td>1.236902e+06</td>\n",
              "      <td>1</td>\n",
              "      <td>0</td>\n",
              "      <td>1</td>\n",
              "      <td>17280</td>\n",
              "      <td>773</td>\n",
              "      <td>988000</td>\n",
              "      <td>62</td>\n",
              "      <td>3</td>\n",
              "      <td>1</td>\n",
              "      <td>15</td>\n",
              "    </tr>\n",
              "    <tr>\n",
              "      <th>PR27902</th>\n",
              "      <td>1.353382e+06</td>\n",
              "      <td>1</td>\n",
              "      <td>0</td>\n",
              "      <td>1</td>\n",
              "      <td>12771</td>\n",
              "      <td>593</td>\n",
              "      <td>655000</td>\n",
              "      <td>32</td>\n",
              "      <td>3</td>\n",
              "      <td>1</td>\n",
              "      <td>15</td>\n",
              "    </tr>\n",
              "    <tr>\n",
              "      <th>PR27909</th>\n",
              "      <td>6.620833e+05</td>\n",
              "      <td>1</td>\n",
              "      <td>0</td>\n",
              "      <td>1</td>\n",
              "      <td>12644</td>\n",
              "      <td>594</td>\n",
              "      <td>550000</td>\n",
              "      <td>33</td>\n",
              "      <td>3</td>\n",
              "      <td>1</td>\n",
              "      <td>15</td>\n",
              "    </tr>\n",
              "  </tbody>\n",
              "</table>\n",
              "<p>15294 rows × 11 columns</p>\n",
              "</div>\n",
              "      <button class=\"colab-df-convert\" onclick=\"convertToInteractive('df-f2992af0-dd99-49d8-b85f-52f0b2e69176')\"\n",
              "              title=\"Convert this dataframe to an interactive table.\"\n",
              "              style=\"display:none;\">\n",
              "        \n",
              "  <svg xmlns=\"http://www.w3.org/2000/svg\" height=\"24px\"viewBox=\"0 0 24 24\"\n",
              "       width=\"24px\">\n",
              "    <path d=\"M0 0h24v24H0V0z\" fill=\"none\"/>\n",
              "    <path d=\"M18.56 5.44l.94 2.06.94-2.06 2.06-.94-2.06-.94-.94-2.06-.94 2.06-2.06.94zm-11 1L8.5 8.5l.94-2.06 2.06-.94-2.06-.94L8.5 2.5l-.94 2.06-2.06.94zm10 10l.94 2.06.94-2.06 2.06-.94-2.06-.94-.94-2.06-.94 2.06-2.06.94z\"/><path d=\"M17.41 7.96l-1.37-1.37c-.4-.4-.92-.59-1.43-.59-.52 0-1.04.2-1.43.59L10.3 9.45l-7.72 7.72c-.78.78-.78 2.05 0 2.83L4 21.41c.39.39.9.59 1.41.59.51 0 1.02-.2 1.41-.59l7.78-7.78 2.81-2.81c.8-.78.8-2.07 0-2.86zM5.41 20L4 18.59l7.72-7.72 1.47 1.35L5.41 20z\"/>\n",
              "  </svg>\n",
              "      </button>\n",
              "      \n",
              "  <style>\n",
              "    .colab-df-container {\n",
              "      display:flex;\n",
              "      flex-wrap:wrap;\n",
              "      gap: 12px;\n",
              "    }\n",
              "\n",
              "    .colab-df-convert {\n",
              "      background-color: #E8F0FE;\n",
              "      border: none;\n",
              "      border-radius: 50%;\n",
              "      cursor: pointer;\n",
              "      display: none;\n",
              "      fill: #1967D2;\n",
              "      height: 32px;\n",
              "      padding: 0 0 0 0;\n",
              "      width: 32px;\n",
              "    }\n",
              "\n",
              "    .colab-df-convert:hover {\n",
              "      background-color: #E2EBFA;\n",
              "      box-shadow: 0px 1px 2px rgba(60, 64, 67, 0.3), 0px 1px 3px 1px rgba(60, 64, 67, 0.15);\n",
              "      fill: #174EA6;\n",
              "    }\n",
              "\n",
              "    [theme=dark] .colab-df-convert {\n",
              "      background-color: #3B4455;\n",
              "      fill: #D2E3FC;\n",
              "    }\n",
              "\n",
              "    [theme=dark] .colab-df-convert:hover {\n",
              "      background-color: #434B5C;\n",
              "      box-shadow: 0px 1px 3px 1px rgba(0, 0, 0, 0.15);\n",
              "      filter: drop-shadow(0px 1px 2px rgba(0, 0, 0, 0.3));\n",
              "      fill: #FFFFFF;\n",
              "    }\n",
              "  </style>\n",
              "\n",
              "      <script>\n",
              "        const buttonEl =\n",
              "          document.querySelector('#df-f2992af0-dd99-49d8-b85f-52f0b2e69176 button.colab-df-convert');\n",
              "        buttonEl.style.display =\n",
              "          google.colab.kernel.accessAllowed ? 'block' : 'none';\n",
              "\n",
              "        async function convertToInteractive(key) {\n",
              "          const element = document.querySelector('#df-f2992af0-dd99-49d8-b85f-52f0b2e69176');\n",
              "          const dataTable =\n",
              "            await google.colab.kernel.invokeFunction('convertToInteractive',\n",
              "                                                     [key], {});\n",
              "          if (!dataTable) return;\n",
              "\n",
              "          const docLinkHtml = 'Like what you see? Visit the ' +\n",
              "            '<a target=\"_blank\" href=https://colab.research.google.com/notebooks/data_table.ipynb>data table notebook</a>'\n",
              "            + ' to learn more about interactive tables.';\n",
              "          element.innerHTML = '';\n",
              "          dataTable['output_type'] = 'display_data';\n",
              "          await google.colab.output.renderOutput(dataTable, element);\n",
              "          const docLink = document.createElement('div');\n",
              "          docLink.innerHTML = docLinkHtml;\n",
              "          element.appendChild(docLink);\n",
              "        }\n",
              "      </script>\n",
              "    </div>\n",
              "  </div>\n",
              "  "
            ],
            "text/plain": [
              "                 ZipCode  NoOfResidentialUnits  NoOfCommercialUnits  \\\n",
              "PropertyID                                                            \n",
              "PR11101     6.474823e+05                     2                    0   \n",
              "PR11102     8.920597e+05                     3                    0   \n",
              "PR11103     8.920597e+05                     2                    0   \n",
              "PR11104     8.920597e+05                     2                    0   \n",
              "PR11105     8.920597e+05                     2                    0   \n",
              "...                  ...                   ...                  ...   \n",
              "PR27878     1.236902e+06                     1                    0   \n",
              "PR27879     1.236902e+06                     1                    0   \n",
              "PR27880     1.236902e+06                     1                    0   \n",
              "PR27902     1.353382e+06                     1                    0   \n",
              "PR27909     6.620833e+05                     1                    0   \n",
              "\n",
              "            TotalNoOfUnits  LandAreaInSqFt  GrossAreaInSqFt  \\\n",
              "PropertyID                                                    \n",
              "PR11101                  2            1900             2394   \n",
              "PR11102                  3            1687             3037   \n",
              "PR11103                  2            2000             2400   \n",
              "PR11104                  2            2356             2394   \n",
              "PR11105                  2            3346             2308   \n",
              "...                    ...             ...              ...   \n",
              "PR27878                  1            3055             1084   \n",
              "PR27879                  1            2465             1320   \n",
              "PR27880                  1           17280              773   \n",
              "PR27902                  1           12771              593   \n",
              "PR27909                  1           12644              594   \n",
              "\n",
              "            PropertyEvaluationvalue  ageofproperty  Borough_labels  \\\n",
              "PropertyID                                                           \n",
              "PR11101                      540000             24               0   \n",
              "PR11102                      750000             12               0   \n",
              "PR11103                      470000             25               0   \n",
              "PR11104                      570000             23               0   \n",
              "PR11105                      640000             22               0   \n",
              "...                             ...            ...             ...   \n",
              "PR27878                      915000             35               3   \n",
              "PR27879                     1900000             12               3   \n",
              "PR27880                      988000             62               3   \n",
              "PR27902                      655000             32               3   \n",
              "PR27909                      550000             33               3   \n",
              "\n",
              "            TaxClass_AtEvaluationTime_labels  bldg_class_labels  \n",
              "PropertyID                                                       \n",
              "PR11101                                    0                  1  \n",
              "PR11102                                    0                  2  \n",
              "PR11103                                    0                  1  \n",
              "PR11104                                    0                  1  \n",
              "PR11105                                    0                  1  \n",
              "...                                      ...                ...  \n",
              "PR27878                                    1                 15  \n",
              "PR27879                                    1                 15  \n",
              "PR27880                                    1                 15  \n",
              "PR27902                                    1                 15  \n",
              "PR27909                                    1                 15  \n",
              "\n",
              "[15294 rows x 11 columns]"
            ]
          },
          "metadata": {},
          "execution_count": 26
        }
      ],
      "source": [
        "no_out_df_train"
      ]
    },
    {
      "cell_type": "code",
      "execution_count": 27,
      "metadata": {
        "colab": {
          "base_uri": "https://localhost:8080/",
          "height": 458
        },
        "id": "AYK6l2NIKcy9",
        "outputId": "9a65fbf0-e7b9-4588-b38d-08dc7f84cdb7"
      },
      "outputs": [
        {
          "output_type": "execute_result",
          "data": {
            "text/html": [
              "\n",
              "  <div id=\"df-d4d5f23a-854e-4d28-84e4-bd58d4abb8ad\">\n",
              "    <div class=\"colab-df-container\">\n",
              "      <div>\n",
              "<style scoped>\n",
              "    .dataframe tbody tr th:only-of-type {\n",
              "        vertical-align: middle;\n",
              "    }\n",
              "\n",
              "    .dataframe tbody tr th {\n",
              "        vertical-align: top;\n",
              "    }\n",
              "\n",
              "    .dataframe thead th {\n",
              "        text-align: right;\n",
              "    }\n",
              "</style>\n",
              "<table border=\"1\" class=\"dataframe\">\n",
              "  <thead>\n",
              "    <tr style=\"text-align: right;\">\n",
              "      <th></th>\n",
              "      <th>ZipCode</th>\n",
              "      <th>NoOfResidentialUnits</th>\n",
              "      <th>NoOfCommercialUnits</th>\n",
              "      <th>TotalNoOfUnits</th>\n",
              "      <th>LandAreaInSqFt</th>\n",
              "      <th>GrossAreaInSqFt</th>\n",
              "      <th>PropertyEvaluationvalue</th>\n",
              "      <th>ageofproperty</th>\n",
              "      <th>Borough_labels</th>\n",
              "      <th>TaxClass_AtEvaluationTime_labels</th>\n",
              "      <th>bldg_class_labels</th>\n",
              "    </tr>\n",
              "  </thead>\n",
              "  <tbody>\n",
              "    <tr>\n",
              "      <th>ZipCode</th>\n",
              "      <td>1.000000</td>\n",
              "      <td>0.058741</td>\n",
              "      <td>0.075928</td>\n",
              "      <td>0.066229</td>\n",
              "      <td>0.112433</td>\n",
              "      <td>-0.008203</td>\n",
              "      <td>0.542277</td>\n",
              "      <td>-0.185436</td>\n",
              "      <td>0.124228</td>\n",
              "      <td>0.582757</td>\n",
              "      <td>0.544844</td>\n",
              "    </tr>\n",
              "    <tr>\n",
              "      <th>NoOfResidentialUnits</th>\n",
              "      <td>0.058741</td>\n",
              "      <td>1.000000</td>\n",
              "      <td>0.167629</td>\n",
              "      <td>0.993034</td>\n",
              "      <td>-0.119489</td>\n",
              "      <td>0.701917</td>\n",
              "      <td>0.210496</td>\n",
              "      <td>-0.101536</td>\n",
              "      <td>-0.065720</td>\n",
              "      <td>0.018495</td>\n",
              "      <td>-0.081747</td>\n",
              "    </tr>\n",
              "    <tr>\n",
              "      <th>NoOfCommercialUnits</th>\n",
              "      <td>0.075928</td>\n",
              "      <td>0.167629</td>\n",
              "      <td>1.000000</td>\n",
              "      <td>0.282620</td>\n",
              "      <td>-0.020640</td>\n",
              "      <td>0.222057</td>\n",
              "      <td>0.152985</td>\n",
              "      <td>-0.005702</td>\n",
              "      <td>0.003542</td>\n",
              "      <td>0.092976</td>\n",
              "      <td>0.233631</td>\n",
              "    </tr>\n",
              "    <tr>\n",
              "      <th>TotalNoOfUnits</th>\n",
              "      <td>0.066229</td>\n",
              "      <td>0.993034</td>\n",
              "      <td>0.282620</td>\n",
              "      <td>1.000000</td>\n",
              "      <td>-0.118729</td>\n",
              "      <td>0.709504</td>\n",
              "      <td>0.223097</td>\n",
              "      <td>-0.099476</td>\n",
              "      <td>-0.063522</td>\n",
              "      <td>0.029107</td>\n",
              "      <td>-0.051617</td>\n",
              "    </tr>\n",
              "    <tr>\n",
              "      <th>LandAreaInSqFt</th>\n",
              "      <td>0.112433</td>\n",
              "      <td>-0.119489</td>\n",
              "      <td>-0.020640</td>\n",
              "      <td>-0.118729</td>\n",
              "      <td>1.000000</td>\n",
              "      <td>-0.132675</td>\n",
              "      <td>0.057513</td>\n",
              "      <td>-0.056347</td>\n",
              "      <td>0.013012</td>\n",
              "      <td>0.315693</td>\n",
              "      <td>0.508747</td>\n",
              "    </tr>\n",
              "    <tr>\n",
              "      <th>GrossAreaInSqFt</th>\n",
              "      <td>-0.008203</td>\n",
              "      <td>0.701917</td>\n",
              "      <td>0.222057</td>\n",
              "      <td>0.709504</td>\n",
              "      <td>-0.132675</td>\n",
              "      <td>1.000000</td>\n",
              "      <td>0.313990</td>\n",
              "      <td>-0.152365</td>\n",
              "      <td>-0.105161</td>\n",
              "      <td>-0.150906</td>\n",
              "      <td>-0.210849</td>\n",
              "    </tr>\n",
              "    <tr>\n",
              "      <th>PropertyEvaluationvalue</th>\n",
              "      <td>0.542277</td>\n",
              "      <td>0.210496</td>\n",
              "      <td>0.152985</td>\n",
              "      <td>0.223097</td>\n",
              "      <td>0.057513</td>\n",
              "      <td>0.313990</td>\n",
              "      <td>1.000000</td>\n",
              "      <td>-0.119523</td>\n",
              "      <td>0.106590</td>\n",
              "      <td>0.315861</td>\n",
              "      <td>0.270940</td>\n",
              "    </tr>\n",
              "    <tr>\n",
              "      <th>ageofproperty</th>\n",
              "      <td>-0.185436</td>\n",
              "      <td>-0.101536</td>\n",
              "      <td>-0.005702</td>\n",
              "      <td>-0.099476</td>\n",
              "      <td>-0.056347</td>\n",
              "      <td>-0.152365</td>\n",
              "      <td>-0.119523</td>\n",
              "      <td>1.000000</td>\n",
              "      <td>0.191040</td>\n",
              "      <td>-0.353474</td>\n",
              "      <td>-0.368981</td>\n",
              "    </tr>\n",
              "    <tr>\n",
              "      <th>Borough_labels</th>\n",
              "      <td>0.124228</td>\n",
              "      <td>-0.065720</td>\n",
              "      <td>0.003542</td>\n",
              "      <td>-0.063522</td>\n",
              "      <td>0.013012</td>\n",
              "      <td>-0.105161</td>\n",
              "      <td>0.106590</td>\n",
              "      <td>0.191040</td>\n",
              "      <td>1.000000</td>\n",
              "      <td>0.024885</td>\n",
              "      <td>-0.022601</td>\n",
              "    </tr>\n",
              "    <tr>\n",
              "      <th>TaxClass_AtEvaluationTime_labels</th>\n",
              "      <td>0.582757</td>\n",
              "      <td>0.018495</td>\n",
              "      <td>0.092976</td>\n",
              "      <td>0.029107</td>\n",
              "      <td>0.315693</td>\n",
              "      <td>-0.150906</td>\n",
              "      <td>0.315861</td>\n",
              "      <td>-0.353474</td>\n",
              "      <td>0.024885</td>\n",
              "      <td>1.000000</td>\n",
              "      <td>0.833093</td>\n",
              "    </tr>\n",
              "    <tr>\n",
              "      <th>bldg_class_labels</th>\n",
              "      <td>0.544844</td>\n",
              "      <td>-0.081747</td>\n",
              "      <td>0.233631</td>\n",
              "      <td>-0.051617</td>\n",
              "      <td>0.508747</td>\n",
              "      <td>-0.210849</td>\n",
              "      <td>0.270940</td>\n",
              "      <td>-0.368981</td>\n",
              "      <td>-0.022601</td>\n",
              "      <td>0.833093</td>\n",
              "      <td>1.000000</td>\n",
              "    </tr>\n",
              "  </tbody>\n",
              "</table>\n",
              "</div>\n",
              "      <button class=\"colab-df-convert\" onclick=\"convertToInteractive('df-d4d5f23a-854e-4d28-84e4-bd58d4abb8ad')\"\n",
              "              title=\"Convert this dataframe to an interactive table.\"\n",
              "              style=\"display:none;\">\n",
              "        \n",
              "  <svg xmlns=\"http://www.w3.org/2000/svg\" height=\"24px\"viewBox=\"0 0 24 24\"\n",
              "       width=\"24px\">\n",
              "    <path d=\"M0 0h24v24H0V0z\" fill=\"none\"/>\n",
              "    <path d=\"M18.56 5.44l.94 2.06.94-2.06 2.06-.94-2.06-.94-.94-2.06-.94 2.06-2.06.94zm-11 1L8.5 8.5l.94-2.06 2.06-.94-2.06-.94L8.5 2.5l-.94 2.06-2.06.94zm10 10l.94 2.06.94-2.06 2.06-.94-2.06-.94-.94-2.06-.94 2.06-2.06.94z\"/><path d=\"M17.41 7.96l-1.37-1.37c-.4-.4-.92-.59-1.43-.59-.52 0-1.04.2-1.43.59L10.3 9.45l-7.72 7.72c-.78.78-.78 2.05 0 2.83L4 21.41c.39.39.9.59 1.41.59.51 0 1.02-.2 1.41-.59l7.78-7.78 2.81-2.81c.8-.78.8-2.07 0-2.86zM5.41 20L4 18.59l7.72-7.72 1.47 1.35L5.41 20z\"/>\n",
              "  </svg>\n",
              "      </button>\n",
              "      \n",
              "  <style>\n",
              "    .colab-df-container {\n",
              "      display:flex;\n",
              "      flex-wrap:wrap;\n",
              "      gap: 12px;\n",
              "    }\n",
              "\n",
              "    .colab-df-convert {\n",
              "      background-color: #E8F0FE;\n",
              "      border: none;\n",
              "      border-radius: 50%;\n",
              "      cursor: pointer;\n",
              "      display: none;\n",
              "      fill: #1967D2;\n",
              "      height: 32px;\n",
              "      padding: 0 0 0 0;\n",
              "      width: 32px;\n",
              "    }\n",
              "\n",
              "    .colab-df-convert:hover {\n",
              "      background-color: #E2EBFA;\n",
              "      box-shadow: 0px 1px 2px rgba(60, 64, 67, 0.3), 0px 1px 3px 1px rgba(60, 64, 67, 0.15);\n",
              "      fill: #174EA6;\n",
              "    }\n",
              "\n",
              "    [theme=dark] .colab-df-convert {\n",
              "      background-color: #3B4455;\n",
              "      fill: #D2E3FC;\n",
              "    }\n",
              "\n",
              "    [theme=dark] .colab-df-convert:hover {\n",
              "      background-color: #434B5C;\n",
              "      box-shadow: 0px 1px 3px 1px rgba(0, 0, 0, 0.15);\n",
              "      filter: drop-shadow(0px 1px 2px rgba(0, 0, 0, 0.3));\n",
              "      fill: #FFFFFF;\n",
              "    }\n",
              "  </style>\n",
              "\n",
              "      <script>\n",
              "        const buttonEl =\n",
              "          document.querySelector('#df-d4d5f23a-854e-4d28-84e4-bd58d4abb8ad button.colab-df-convert');\n",
              "        buttonEl.style.display =\n",
              "          google.colab.kernel.accessAllowed ? 'block' : 'none';\n",
              "\n",
              "        async function convertToInteractive(key) {\n",
              "          const element = document.querySelector('#df-d4d5f23a-854e-4d28-84e4-bd58d4abb8ad');\n",
              "          const dataTable =\n",
              "            await google.colab.kernel.invokeFunction('convertToInteractive',\n",
              "                                                     [key], {});\n",
              "          if (!dataTable) return;\n",
              "\n",
              "          const docLinkHtml = 'Like what you see? Visit the ' +\n",
              "            '<a target=\"_blank\" href=https://colab.research.google.com/notebooks/data_table.ipynb>data table notebook</a>'\n",
              "            + ' to learn more about interactive tables.';\n",
              "          element.innerHTML = '';\n",
              "          dataTable['output_type'] = 'display_data';\n",
              "          await google.colab.output.renderOutput(dataTable, element);\n",
              "          const docLink = document.createElement('div');\n",
              "          docLink.innerHTML = docLinkHtml;\n",
              "          element.appendChild(docLink);\n",
              "        }\n",
              "      </script>\n",
              "    </div>\n",
              "  </div>\n",
              "  "
            ],
            "text/plain": [
              "                                   ZipCode  NoOfResidentialUnits  \\\n",
              "ZipCode                           1.000000              0.058741   \n",
              "NoOfResidentialUnits              0.058741              1.000000   \n",
              "NoOfCommercialUnits               0.075928              0.167629   \n",
              "TotalNoOfUnits                    0.066229              0.993034   \n",
              "LandAreaInSqFt                    0.112433             -0.119489   \n",
              "GrossAreaInSqFt                  -0.008203              0.701917   \n",
              "PropertyEvaluationvalue           0.542277              0.210496   \n",
              "ageofproperty                    -0.185436             -0.101536   \n",
              "Borough_labels                    0.124228             -0.065720   \n",
              "TaxClass_AtEvaluationTime_labels  0.582757              0.018495   \n",
              "bldg_class_labels                 0.544844             -0.081747   \n",
              "\n",
              "                                  NoOfCommercialUnits  TotalNoOfUnits  \\\n",
              "ZipCode                                      0.075928        0.066229   \n",
              "NoOfResidentialUnits                         0.167629        0.993034   \n",
              "NoOfCommercialUnits                          1.000000        0.282620   \n",
              "TotalNoOfUnits                               0.282620        1.000000   \n",
              "LandAreaInSqFt                              -0.020640       -0.118729   \n",
              "GrossAreaInSqFt                              0.222057        0.709504   \n",
              "PropertyEvaluationvalue                      0.152985        0.223097   \n",
              "ageofproperty                               -0.005702       -0.099476   \n",
              "Borough_labels                               0.003542       -0.063522   \n",
              "TaxClass_AtEvaluationTime_labels             0.092976        0.029107   \n",
              "bldg_class_labels                            0.233631       -0.051617   \n",
              "\n",
              "                                  LandAreaInSqFt  GrossAreaInSqFt  \\\n",
              "ZipCode                                 0.112433        -0.008203   \n",
              "NoOfResidentialUnits                   -0.119489         0.701917   \n",
              "NoOfCommercialUnits                    -0.020640         0.222057   \n",
              "TotalNoOfUnits                         -0.118729         0.709504   \n",
              "LandAreaInSqFt                          1.000000        -0.132675   \n",
              "GrossAreaInSqFt                        -0.132675         1.000000   \n",
              "PropertyEvaluationvalue                 0.057513         0.313990   \n",
              "ageofproperty                          -0.056347        -0.152365   \n",
              "Borough_labels                          0.013012        -0.105161   \n",
              "TaxClass_AtEvaluationTime_labels        0.315693        -0.150906   \n",
              "bldg_class_labels                       0.508747        -0.210849   \n",
              "\n",
              "                                  PropertyEvaluationvalue  ageofproperty  \\\n",
              "ZipCode                                          0.542277      -0.185436   \n",
              "NoOfResidentialUnits                             0.210496      -0.101536   \n",
              "NoOfCommercialUnits                              0.152985      -0.005702   \n",
              "TotalNoOfUnits                                   0.223097      -0.099476   \n",
              "LandAreaInSqFt                                   0.057513      -0.056347   \n",
              "GrossAreaInSqFt                                  0.313990      -0.152365   \n",
              "PropertyEvaluationvalue                          1.000000      -0.119523   \n",
              "ageofproperty                                   -0.119523       1.000000   \n",
              "Borough_labels                                   0.106590       0.191040   \n",
              "TaxClass_AtEvaluationTime_labels                 0.315861      -0.353474   \n",
              "bldg_class_labels                                0.270940      -0.368981   \n",
              "\n",
              "                                  Borough_labels  \\\n",
              "ZipCode                                 0.124228   \n",
              "NoOfResidentialUnits                   -0.065720   \n",
              "NoOfCommercialUnits                     0.003542   \n",
              "TotalNoOfUnits                         -0.063522   \n",
              "LandAreaInSqFt                          0.013012   \n",
              "GrossAreaInSqFt                        -0.105161   \n",
              "PropertyEvaluationvalue                 0.106590   \n",
              "ageofproperty                           0.191040   \n",
              "Borough_labels                          1.000000   \n",
              "TaxClass_AtEvaluationTime_labels        0.024885   \n",
              "bldg_class_labels                      -0.022601   \n",
              "\n",
              "                                  TaxClass_AtEvaluationTime_labels  \\\n",
              "ZipCode                                                   0.582757   \n",
              "NoOfResidentialUnits                                      0.018495   \n",
              "NoOfCommercialUnits                                       0.092976   \n",
              "TotalNoOfUnits                                            0.029107   \n",
              "LandAreaInSqFt                                            0.315693   \n",
              "GrossAreaInSqFt                                          -0.150906   \n",
              "PropertyEvaluationvalue                                   0.315861   \n",
              "ageofproperty                                            -0.353474   \n",
              "Borough_labels                                            0.024885   \n",
              "TaxClass_AtEvaluationTime_labels                          1.000000   \n",
              "bldg_class_labels                                         0.833093   \n",
              "\n",
              "                                  bldg_class_labels  \n",
              "ZipCode                                    0.544844  \n",
              "NoOfResidentialUnits                      -0.081747  \n",
              "NoOfCommercialUnits                        0.233631  \n",
              "TotalNoOfUnits                            -0.051617  \n",
              "LandAreaInSqFt                             0.508747  \n",
              "GrossAreaInSqFt                           -0.210849  \n",
              "PropertyEvaluationvalue                    0.270940  \n",
              "ageofproperty                             -0.368981  \n",
              "Borough_labels                            -0.022601  \n",
              "TaxClass_AtEvaluationTime_labels           0.833093  \n",
              "bldg_class_labels                          1.000000  "
            ]
          },
          "metadata": {},
          "execution_count": 27
        }
      ],
      "source": [
        "no_out_df_train.corr()"
      ]
    },
    {
      "cell_type": "code",
      "execution_count": 28,
      "metadata": {
        "colab": {
          "base_uri": "https://localhost:8080/",
          "height": 855
        },
        "id": "s-Pvdd35LKCG",
        "outputId": "408b1021-fa3b-4648-9c84-455664202770"
      },
      "outputs": [
        {
          "output_type": "display_data",
          "data": {
            "image/png": "[encoded data removed]",
            "text/plain": [
              "<Figure size 1728x1296 with 2 Axes>"
            ]
          },
          "metadata": {
            "needs_background": "light"
          }
        }
      ],
      "source": [
        "plt.subplots(1,1,figsize=(24, 18))\n",
        "sns.heatmap(no_out_df_train.corr(), annot=True, fmt='.2f', cmap=\"CMRmap_r\")\n",
        "plt.title(\"Feature Correlation\", fontweight='bold');\n"
      ]
    },
    {
      "cell_type": "code",
      "execution_count": 29,
      "metadata": {
        "colab": {
          "base_uri": "https://localhost:8080/"
        },
        "id": "Y0-5FxZ2LQvZ",
        "outputId": "c507b5aa-7ed9-4c6e-a3d4-51a36404232a"
      },
      "outputs": [
        {
          "output_type": "stream",
          "name": "stdout",
          "text": [
            "Total no of numerical variables in the dataset:  11\n"
          ]
        }
      ],
      "source": [
        "num_vars = [var for var in no_out_df_train.columns if no_out_df_train[var].dtypes!= 'O']\n",
        "print(\"Total no of numerical variables in the dataset: \", len(num_vars))"
      ]
    },
    {
      "cell_type": "code",
      "execution_count": 30,
      "metadata": {
        "id": "hO1HnxFpmnUp",
        "colab": {
          "base_uri": "https://localhost:8080/"
        },
        "outputId": "1094ab33-9db7-403e-e4e9-330cb7a784b2"
      },
      "outputs": [
        {
          "output_type": "execute_result",
          "data": {
            "text/plain": [
              "((16810, 10), (16810,))"
            ]
          },
          "metadata": {},
          "execution_count": 30
        }
      ],
      "source": [
        "X = df_train.drop('PropertyEvaluationvalue', axis=1)\n",
        "y = df_train['PropertyEvaluationvalue']\n",
        "new_df = df_train.copy()\n",
        "X.shape, y.shape"
      ]
    },
    {
      "cell_type": "markdown",
      "source": [
        "### Train-Test split:"
      ],
      "metadata": {
        "id": "bN1eb0DDn9NK"
      }
    },
    {
      "cell_type": "code",
      "source": [
        "X_train, X_test, y_train, y_test = train_test_split(X, y, test_size=0.25, random_state = 100)\n",
        "X_train.shape, y_train.shape, X_test.shape, y_test.shape"
      ],
      "metadata": {
        "colab": {
          "base_uri": "https://localhost:8080/"
        },
        "id": "BIGDDqg6_4PZ",
        "outputId": "63be8432-9dda-4c60-84b1-bc29b1a00843"
      },
      "execution_count": 31,
      "outputs": [
        {
          "output_type": "execute_result",
          "data": {
            "text/plain": [
              "((12607, 10), (12607,), (4203, 10), (4203,))"
            ]
          },
          "metadata": {},
          "execution_count": 31
        }
      ]
    },
    {
      "cell_type": "markdown",
      "source": [
        "### Feature Scaling:"
      ],
      "metadata": {
        "id": "k65MiA2foEqa"
      }
    },
    {
      "cell_type": "code",
      "source": [
        "train_vars = [var for var in X_train.columns if var not in ['PropertyID,PropertyEvaluationvalue']]\n",
        "len(train_vars)"
      ],
      "metadata": {
        "colab": {
          "base_uri": "https://localhost:8080/"
        },
        "id": "Jr8ICiEp_6M8",
        "outputId": "d62936a5-0dac-436e-8096-0a6557d6af05"
      },
      "execution_count": 32,
      "outputs": [
        {
          "output_type": "execute_result",
          "data": {
            "text/plain": [
              "10"
            ]
          },
          "metadata": {},
          "execution_count": 32
        }
      ]
    },
    {
      "cell_type": "code",
      "source": [
        "scaler = StandardScaler()\n",
        "\n",
        "scaler.fit(X_train[train_vars]) \n",
        "\n",
        "X_train[train_vars] = scaler.transform(X_train[train_vars])\n",
        "\n",
        "X_test[train_vars] = scaler.transform(X_test[train_vars])"
      ],
      "metadata": {
        "id": "sgrDFOS5__AL"
      },
      "execution_count": 33,
      "outputs": []
    },
    {
      "cell_type": "code",
      "source": [
        "X_train.head()"
      ],
      "metadata": {
        "colab": {
          "base_uri": "https://localhost:8080/",
          "height": 302
        },
        "id": "82XH-GIiUjEL",
        "outputId": "d19e923b-8cbc-4b99-9e15-838cf07bb027"
      },
      "execution_count": 34,
      "outputs": [
        {
          "output_type": "execute_result",
          "data": {
            "text/html": [
              "\n",
              "  <div id=\"df-b6763e6b-3870-462c-99d8-42328f8b4a49\">\n",
              "    <div class=\"colab-df-container\">\n",
              "      <div>\n",
              "<style scoped>\n",
              "    .dataframe tbody tr th:only-of-type {\n",
              "        vertical-align: middle;\n",
              "    }\n",
              "\n",
              "    .dataframe tbody tr th {\n",
              "        vertical-align: top;\n",
              "    }\n",
              "\n",
              "    .dataframe thead th {\n",
              "        text-align: right;\n",
              "    }\n",
              "</style>\n",
              "<table border=\"1\" class=\"dataframe\">\n",
              "  <thead>\n",
              "    <tr style=\"text-align: right;\">\n",
              "      <th></th>\n",
              "      <th>ZipCode</th>\n",
              "      <th>NoOfResidentialUnits</th>\n",
              "      <th>NoOfCommercialUnits</th>\n",
              "      <th>TotalNoOfUnits</th>\n",
              "      <th>LandAreaInSqFt</th>\n",
              "      <th>GrossAreaInSqFt</th>\n",
              "      <th>ageofproperty</th>\n",
              "      <th>Borough_labels</th>\n",
              "      <th>TaxClass_AtEvaluationTime_labels</th>\n",
              "      <th>bldg_class_labels</th>\n",
              "    </tr>\n",
              "    <tr>\n",
              "      <th>PropertyID</th>\n",
              "      <th></th>\n",
              "      <th></th>\n",
              "      <th></th>\n",
              "      <th></th>\n",
              "      <th></th>\n",
              "      <th></th>\n",
              "      <th></th>\n",
              "      <th></th>\n",
              "      <th></th>\n",
              "      <th></th>\n",
              "    </tr>\n",
              "  </thead>\n",
              "  <tbody>\n",
              "    <tr>\n",
              "      <th>PR14293</th>\n",
              "      <td>-0.602608</td>\n",
              "      <td>0.019632</td>\n",
              "      <td>-0.057505</td>\n",
              "      <td>0.001330</td>\n",
              "      <td>-0.141581</td>\n",
              "      <td>-0.104973</td>\n",
              "      <td>0.729939</td>\n",
              "      <td>-1.748808</td>\n",
              "      <td>-0.446888</td>\n",
              "      <td>-0.403900</td>\n",
              "    </tr>\n",
              "    <tr>\n",
              "      <th>PR21855</th>\n",
              "      <td>0.183096</td>\n",
              "      <td>-0.110633</td>\n",
              "      <td>-0.057505</td>\n",
              "      <td>-0.121017</td>\n",
              "      <td>-0.056449</td>\n",
              "      <td>-0.100131</td>\n",
              "      <td>1.025553</td>\n",
              "      <td>1.109549</td>\n",
              "      <td>-0.446888</td>\n",
              "      <td>-0.587745</td>\n",
              "    </tr>\n",
              "    <tr>\n",
              "      <th>PR19953</th>\n",
              "      <td>0.562619</td>\n",
              "      <td>0.019632</td>\n",
              "      <td>-0.057505</td>\n",
              "      <td>0.001330</td>\n",
              "      <td>-0.112260</td>\n",
              "      <td>-0.049460</td>\n",
              "      <td>0.729939</td>\n",
              "      <td>-1.034219</td>\n",
              "      <td>-0.446888</td>\n",
              "      <td>-0.403900</td>\n",
              "    </tr>\n",
              "    <tr>\n",
              "      <th>PR15599</th>\n",
              "      <td>1.793530</td>\n",
              "      <td>0.019632</td>\n",
              "      <td>-0.057505</td>\n",
              "      <td>0.001330</td>\n",
              "      <td>-0.135201</td>\n",
              "      <td>-0.125702</td>\n",
              "      <td>0.983323</td>\n",
              "      <td>1.109549</td>\n",
              "      <td>-0.446888</td>\n",
              "      <td>-0.403900</td>\n",
              "    </tr>\n",
              "    <tr>\n",
              "      <th>PR24842</th>\n",
              "      <td>0.766469</td>\n",
              "      <td>-0.110633</td>\n",
              "      <td>-0.057505</td>\n",
              "      <td>-0.121017</td>\n",
              "      <td>-0.105880</td>\n",
              "      <td>-0.134620</td>\n",
              "      <td>0.518786</td>\n",
              "      <td>1.109549</td>\n",
              "      <td>-0.446888</td>\n",
              "      <td>-0.587745</td>\n",
              "    </tr>\n",
              "  </tbody>\n",
              "</table>\n",
              "</div>\n",
              "      <button class=\"colab-df-convert\" onclick=\"convertToInteractive('df-b6763e6b-3870-462c-99d8-42328f8b4a49')\"\n",
              "              title=\"Convert this dataframe to an interactive table.\"\n",
              "              style=\"display:none;\">\n",
              "        \n",
              "  <svg xmlns=\"http://www.w3.org/2000/svg\" height=\"24px\"viewBox=\"0 0 24 24\"\n",
              "       width=\"24px\">\n",
              "    <path d=\"M0 0h24v24H0V0z\" fill=\"none\"/>\n",
              "    <path d=\"M18.56 5.44l.94 2.06.94-2.06 2.06-.94-2.06-.94-.94-2.06-.94 2.06-2.06.94zm-11 1L8.5 8.5l.94-2.06 2.06-.94-2.06-.94L8.5 2.5l-.94 2.06-2.06.94zm10 10l.94 2.06.94-2.06 2.06-.94-2.06-.94-.94-2.06-.94 2.06-2.06.94z\"/><path d=\"M17.41 7.96l-1.37-1.37c-.4-.4-.92-.59-1.43-.59-.52 0-1.04.2-1.43.59L10.3 9.45l-7.72 7.72c-.78.78-.78 2.05 0 2.83L4 21.41c.39.39.9.59 1.41.59.51 0 1.02-.2 1.41-.59l7.78-7.78 2.81-2.81c.8-.78.8-2.07 0-2.86zM5.41 20L4 18.59l7.72-7.72 1.47 1.35L5.41 20z\"/>\n",
              "  </svg>\n",
              "      </button>\n",
              "      \n",
              "  <style>\n",
              "    .colab-df-container {\n",
              "      display:flex;\n",
              "      flex-wrap:wrap;\n",
              "      gap: 12px;\n",
              "    }\n",
              "\n",
              "    .colab-df-convert {\n",
              "      background-color: #E8F0FE;\n",
              "      border: none;\n",
              "      border-radius: 50%;\n",
              "      cursor: pointer;\n",
              "      display: none;\n",
              "      fill: #1967D2;\n",
              "      height: 32px;\n",
              "      padding: 0 0 0 0;\n",
              "      width: 32px;\n",
              "    }\n",
              "\n",
              "    .colab-df-convert:hover {\n",
              "      background-color: #E2EBFA;\n",
              "      box-shadow: 0px 1px 2px rgba(60, 64, 67, 0.3), 0px 1px 3px 1px rgba(60, 64, 67, 0.15);\n",
              "      fill: #174EA6;\n",
              "    }\n",
              "\n",
              "    [theme=dark] .colab-df-convert {\n",
              "      background-color: #3B4455;\n",
              "      fill: #D2E3FC;\n",
              "    }\n",
              "\n",
              "    [theme=dark] .colab-df-convert:hover {\n",
              "      background-color: #434B5C;\n",
              "      box-shadow: 0px 1px 3px 1px rgba(0, 0, 0, 0.15);\n",
              "      filter: drop-shadow(0px 1px 2px rgba(0, 0, 0, 0.3));\n",
              "      fill: #FFFFFF;\n",
              "    }\n",
              "  </style>\n",
              "\n",
              "      <script>\n",
              "        const buttonEl =\n",
              "          document.querySelector('#df-b6763e6b-3870-462c-99d8-42328f8b4a49 button.colab-df-convert');\n",
              "        buttonEl.style.display =\n",
              "          google.colab.kernel.accessAllowed ? 'block' : 'none';\n",
              "\n",
              "        async function convertToInteractive(key) {\n",
              "          const element = document.querySelector('#df-b6763e6b-3870-462c-99d8-42328f8b4a49');\n",
              "          const dataTable =\n",
              "            await google.colab.kernel.invokeFunction('convertToInteractive',\n",
              "                                                     [key], {});\n",
              "          if (!dataTable) return;\n",
              "\n",
              "          const docLinkHtml = 'Like what you see? Visit the ' +\n",
              "            '<a target=\"_blank\" href=https://colab.research.google.com/notebooks/data_table.ipynb>data table notebook</a>'\n",
              "            + ' to learn more about interactive tables.';\n",
              "          element.innerHTML = '';\n",
              "          dataTable['output_type'] = 'display_data';\n",
              "          await google.colab.output.renderOutput(dataTable, element);\n",
              "          const docLink = document.createElement('div');\n",
              "          docLink.innerHTML = docLinkHtml;\n",
              "          element.appendChild(docLink);\n",
              "        }\n",
              "      </script>\n",
              "    </div>\n",
              "  </div>\n",
              "  "
            ],
            "text/plain": [
              "             ZipCode  NoOfResidentialUnits  NoOfCommercialUnits  \\\n",
              "PropertyID                                                        \n",
              "PR14293    -0.602608              0.019632            -0.057505   \n",
              "PR21855     0.183096             -0.110633            -0.057505   \n",
              "PR19953     0.562619              0.019632            -0.057505   \n",
              "PR15599     1.793530              0.019632            -0.057505   \n",
              "PR24842     0.766469             -0.110633            -0.057505   \n",
              "\n",
              "            TotalNoOfUnits  LandAreaInSqFt  GrossAreaInSqFt  ageofproperty  \\\n",
              "PropertyID                                                                   \n",
              "PR14293           0.001330       -0.141581        -0.104973       0.729939   \n",
              "PR21855          -0.121017       -0.056449        -0.100131       1.025553   \n",
              "PR19953           0.001330       -0.112260        -0.049460       0.729939   \n",
              "PR15599           0.001330       -0.135201        -0.125702       0.983323   \n",
              "PR24842          -0.121017       -0.105880        -0.134620       0.518786   \n",
              "\n",
              "            Borough_labels  TaxClass_AtEvaluationTime_labels  \\\n",
              "PropertyID                                                     \n",
              "PR14293          -1.748808                         -0.446888   \n",
              "PR21855           1.109549                         -0.446888   \n",
              "PR19953          -1.034219                         -0.446888   \n",
              "PR15599           1.109549                         -0.446888   \n",
              "PR24842           1.109549                         -0.446888   \n",
              "\n",
              "            bldg_class_labels  \n",
              "PropertyID                     \n",
              "PR14293             -0.403900  \n",
              "PR21855             -0.587745  \n",
              "PR19953             -0.403900  \n",
              "PR15599             -0.403900  \n",
              "PR24842             -0.587745  "
            ]
          },
          "metadata": {},
          "execution_count": 34
        }
      ]
    },
    {
      "cell_type": "code",
      "source": [
        "# function for calculating the rmse and mape\n",
        "from sklearn import metrics\n",
        "def mape(train_actual,train_prediction,test_actual,test_prediction):\n",
        "    print('train')\n",
        "    print('mape: ',np.mean(np.abs((train_actual-train_prediction)/train_actual)*100))\n",
        "    print('test')\n",
        "    print('mape: ',np.mean(np.abs((test_actual-test_prediction)/test_actual)*100))"
      ],
      "metadata": {
        "id": "uuvolKk9ABFS"
      },
      "execution_count": 35,
      "outputs": []
    },
    {
      "cell_type": "markdown",
      "source": [
        "### Linear Regression Model:"
      ],
      "metadata": {
        "id": "YGtDPRjlFExa"
      }
    },
    {
      "cell_type": "code",
      "source": [
        "linear_reg = LinearRegression()\n",
        "\n",
        "linear_reg.fit(X_train, y_train)"
      ],
      "metadata": {
        "colab": {
          "base_uri": "https://localhost:8080/"
        },
        "id": "Q1WFqlHfAcYs",
        "outputId": "fdb6bf33-ce09-4364-d068-08187734e194"
      },
      "execution_count": 37,
      "outputs": [
        {
          "output_type": "execute_result",
          "data": {
            "text/plain": [
              "LinearRegression()"
            ]
          },
          "metadata": {},
          "execution_count": 37
        }
      ]
    },
    {
      "cell_type": "code",
      "source": [
        "from sklearn.linear_model import LinearRegression\n",
        "lm = LinearRegression()\n",
        "lm.fit(X_train,y_train)"
      ],
      "metadata": {
        "colab": {
          "base_uri": "https://localhost:8080/"
        },
        "id": "XOn6NqR6DA6V",
        "outputId": "352a7056-298f-40dd-fbf4-498770bceda3"
      },
      "execution_count": 38,
      "outputs": [
        {
          "output_type": "execute_result",
          "data": {
            "text/plain": [
              "LinearRegression()"
            ]
          },
          "metadata": {},
          "execution_count": 38
        }
      ]
    },
    {
      "cell_type": "code",
      "source": [
        "mape(y_train,lm.predict(X_train),y_test,lm.predict(X_test))"
      ],
      "metadata": {
        "colab": {
          "base_uri": "https://localhost:8080/"
        },
        "id": "RLOhAC9QDGTX",
        "outputId": "55ef8151-9451-409b-f108-5d55ae8e60d3"
      },
      "execution_count": 39,
      "outputs": [
        {
          "output_type": "stream",
          "name": "stdout",
          "text": [
            "train\n",
            "mape:  58.105592005775826\n",
            "test\n",
            "mape:  56.895642034060224\n"
          ]
        }
      ]
    },
    {
      "cell_type": "markdown",
      "source": [
        "### Elastic Net Model:"
      ],
      "metadata": {
        "id": "_HcbBSbWLRkv"
      }
    },
    {
      "cell_type": "code",
      "source": [
        "elastic_net = ElasticNet(alpha=0.1, l1_ratio=0.5)\n",
        "\n",
        "elastic_net.fit(X_train, y_train)"
      ],
      "metadata": {
        "colab": {
          "base_uri": "https://localhost:8080/"
        },
        "id": "bT0zAIvQESEB",
        "outputId": "c94ce70e-091e-4c93-e50d-5b45f68199f4"
      },
      "execution_count": 40,
      "outputs": [
        {
          "output_type": "execute_result",
          "data": {
            "text/plain": [
              "ElasticNet(alpha=0.1)"
            ]
          },
          "metadata": {},
          "execution_count": 40
        }
      ]
    },
    {
      "cell_type": "code",
      "source": [
        "mape(y_train,lm.predict(X_train),y_test,elastic_net.predict(X_test))"
      ],
      "metadata": {
        "colab": {
          "base_uri": "https://localhost:8080/"
        },
        "id": "A5n_gWeYEZK-",
        "outputId": "a3a04aad-155d-40ce-f7f0-4d42248200f8"
      },
      "execution_count": 41,
      "outputs": [
        {
          "output_type": "stream",
          "name": "stdout",
          "text": [
            "train\n",
            "mape:  58.105592005775826\n",
            "test\n",
            "mape:  57.04740288076655\n"
          ]
        }
      ]
    },
    {
      "cell_type": "markdown",
      "source": [
        "### Ridge Regression Model:"
      ],
      "metadata": {
        "id": "bc2Zz4kFLaIa"
      }
    },
    {
      "cell_type": "code",
      "source": [
        "ridge_reg = Ridge(alpha=1, solver='cholesky')\n",
        "\n",
        "ridge_reg.fit(X_train, y_train)"
      ],
      "metadata": {
        "colab": {
          "base_uri": "https://localhost:8080/"
        },
        "id": "_FOJFCGZEeSu",
        "outputId": "ac972be6-0b0f-4a39-e58c-05d2cdc9ea23"
      },
      "execution_count": 42,
      "outputs": [
        {
          "output_type": "execute_result",
          "data": {
            "text/plain": [
              "Ridge(alpha=1, solver='cholesky')"
            ]
          },
          "metadata": {},
          "execution_count": 42
        }
      ]
    },
    {
      "cell_type": "code",
      "source": [
        "mape(y_train,lm.predict(X_train),y_test,ridge_reg.predict(X_test))"
      ],
      "metadata": {
        "colab": {
          "base_uri": "https://localhost:8080/"
        },
        "id": "m9hQozWMEiOK",
        "outputId": "0b3271c8-ceca-4e1d-ac5e-dd3e27f572d1"
      },
      "execution_count": 43,
      "outputs": [
        {
          "output_type": "stream",
          "name": "stdout",
          "text": [
            "train\n",
            "mape:  58.105592005775826\n",
            "test\n",
            "mape:  56.987879022232256\n"
          ]
        }
      ]
    },
    {
      "cell_type": "markdown",
      "source": [
        "### Lasso Regression Model:"
      ],
      "metadata": {
        "id": "KsH122MdLhTR"
      }
    },
    {
      "cell_type": "code",
      "source": [
        "lasso_reg = Lasso(alpha=0.1)\n",
        "\n",
        "lasso_reg.fit(X_train, y_train)"
      ],
      "metadata": {
        "colab": {
          "base_uri": "https://localhost:8080/"
        },
        "id": "GSqnMjN8LmzP",
        "outputId": "74266dd5-11b8-4dea-ed7d-1d5019c88d40"
      },
      "execution_count": 44,
      "outputs": [
        {
          "output_type": "execute_result",
          "data": {
            "text/plain": [
              "Lasso(alpha=0.1)"
            ]
          },
          "metadata": {},
          "execution_count": 44
        }
      ]
    },
    {
      "cell_type": "code",
      "source": [
        "mape(y_train,lm.predict(X_train),y_test,lasso_reg.predict(X_test))"
      ],
      "metadata": {
        "colab": {
          "base_uri": "https://localhost:8080/"
        },
        "id": "PeYKAEPVLnZD",
        "outputId": "638f5f88-eb10-42a8-956d-22fe13e7015e"
      },
      "execution_count": 45,
      "outputs": [
        {
          "output_type": "stream",
          "name": "stdout",
          "text": [
            "train\n",
            "mape:  58.105592005775826\n",
            "test\n",
            "mape:  56.987975748004885\n"
          ]
        }
      ]
    },
    {
      "cell_type": "markdown",
      "source": [
        "### XG Boost Regression Model:"
      ],
      "metadata": {
        "id": "e7QJCL-1L1RI"
      }
    },
    {
      "cell_type": "code",
      "source": [
        "xgb_reg = xgboost.XGBRegressor()\n",
        "\n",
        "xgb_reg.fit(X_train, y_train)"
      ],
      "metadata": {
        "colab": {
          "base_uri": "https://localhost:8080/"
        },
        "id": "pFx8MX_XL1z5",
        "outputId": "1427525b-2506-40b5-810a-720be0abf22d"
      },
      "execution_count": 46,
      "outputs": [
        {
          "output_type": "stream",
          "name": "stdout",
          "text": [
            "[07:17:32] WARNING: /workspace/src/objective/regression_obj.cu:152: reg:linear is now deprecated in favor of reg:squarederror.\n"
          ]
        },
        {
          "output_type": "execute_result",
          "data": {
            "text/plain": [
              "XGBRegressor()"
            ]
          },
          "metadata": {},
          "execution_count": 46
        }
      ]
    },
    {
      "cell_type": "code",
      "source": [
        "mape(y_train,lm.predict(X_train),y_test,xgb_reg.predict(X_test))"
      ],
      "metadata": {
        "colab": {
          "base_uri": "https://localhost:8080/"
        },
        "id": "yyr0RtCKL31m",
        "outputId": "b5799c19-a685-4fad-c406-117f64229d52"
      },
      "execution_count": 47,
      "outputs": [
        {
          "output_type": "stream",
          "name": "stdout",
          "text": [
            "train\n",
            "mape:  58.105592005775826\n",
            "test\n",
            "mape:  40.237662705531484\n"
          ]
        }
      ]
    },
    {
      "cell_type": "markdown",
      "source": [
        "### Ada Boost Regression Model:"
      ],
      "metadata": {
        "id": "X2o5wAJEL_eh"
      }
    },
    {
      "cell_type": "code",
      "source": [
        "adaboost_reg = AdaBoostRegressor()\n",
        "\n",
        "adaboost_reg.fit(X_train, y_train)"
      ],
      "metadata": {
        "colab": {
          "base_uri": "https://localhost:8080/"
        },
        "id": "XzTLZ72dMAR8",
        "outputId": "9e932fb4-5003-452a-f90e-a40d09ddcef6"
      },
      "execution_count": 48,
      "outputs": [
        {
          "output_type": "execute_result",
          "data": {
            "text/plain": [
              "AdaBoostRegressor()"
            ]
          },
          "metadata": {},
          "execution_count": 48
        }
      ]
    },
    {
      "cell_type": "code",
      "source": [
        "mape(y_train,lm.predict(X_train),y_test,adaboost_reg.predict(X_test))"
      ],
      "metadata": {
        "colab": {
          "base_uri": "https://localhost:8080/"
        },
        "id": "b9lP0gijMCbZ",
        "outputId": "f94d6599-7209-4329-a33d-04e35308491d"
      },
      "execution_count": 49,
      "outputs": [
        {
          "output_type": "stream",
          "name": "stdout",
          "text": [
            "train\n",
            "mape:  58.105592005775826\n",
            "test\n",
            "mape:  75.17864332020577\n"
          ]
        }
      ]
    },
    {
      "cell_type": "markdown",
      "source": [
        "### Gradient Boosting Regression Model:"
      ],
      "metadata": {
        "id": "qaQ2OPN-MJEm"
      }
    },
    {
      "cell_type": "code",
      "source": [
        "gb_reg = GradientBoostingRegressor()\n",
        "\n",
        "gb_reg.fit(X_train, y_train)"
      ],
      "metadata": {
        "colab": {
          "base_uri": "https://localhost:8080/"
        },
        "id": "jQmYKZBBMJvu",
        "outputId": "a4b26f21-77a4-4d86-fce8-9e39ea159f21"
      },
      "execution_count": 50,
      "outputs": [
        {
          "output_type": "execute_result",
          "data": {
            "text/plain": [
              "GradientBoostingRegressor()"
            ]
          },
          "metadata": {},
          "execution_count": 50
        }
      ]
    },
    {
      "cell_type": "code",
      "source": [
        "mape(y_train,lm.predict(X_train),y_test,gb_reg.predict(X_test))"
      ],
      "metadata": {
        "colab": {
          "base_uri": "https://localhost:8080/"
        },
        "id": "CcgeN1kQMNuw",
        "outputId": "9158dffb-22db-4e44-88e7-b856fa9a0341"
      },
      "execution_count": 51,
      "outputs": [
        {
          "output_type": "stream",
          "name": "stdout",
          "text": [
            "train\n",
            "mape:  58.105592005775826\n",
            "test\n",
            "mape:  40.55546950756463\n"
          ]
        }
      ]
    },
    {
      "cell_type": "markdown",
      "source": [
        "### Decision Tree Regressor:"
      ],
      "metadata": {
        "id": "vohqKfn2MX4f"
      }
    },
    {
      "cell_type": "code",
      "source": [
        "tree_reg = DecisionTreeRegressor(max_depth=5)\n",
        "\n",
        "tree_reg.fit(X_train, y_train)"
      ],
      "metadata": {
        "colab": {
          "base_uri": "https://localhost:8080/"
        },
        "id": "dUhnCiALMc-I",
        "outputId": "b5f7fe70-993e-4d7f-f597-5daa1d071511"
      },
      "execution_count": 52,
      "outputs": [
        {
          "output_type": "execute_result",
          "data": {
            "text/plain": [
              "DecisionTreeRegressor(max_depth=5)"
            ]
          },
          "metadata": {},
          "execution_count": 52
        }
      ]
    },
    {
      "cell_type": "code",
      "source": [
        "mape(y_train,lm.predict(X_train),y_test,tree_reg.predict(X_test))"
      ],
      "metadata": {
        "colab": {
          "base_uri": "https://localhost:8080/"
        },
        "id": "-lehTODWMde1",
        "outputId": "3d454ce1-2317-4e2e-fe34-7e8525b2f80f"
      },
      "execution_count": 53,
      "outputs": [
        {
          "output_type": "stream",
          "name": "stdout",
          "text": [
            "train\n",
            "mape:  58.105592005775826\n",
            "test\n",
            "mape:  44.703867212100754\n"
          ]
        }
      ]
    },
    {
      "cell_type": "code",
      "source": [
        ""
      ],
      "metadata": {
        "id": "e1hkfLxdMhsY"
      },
      "execution_count": 53,
      "outputs": []
    },
    {
      "cell_type": "markdown",
      "source": [
        "### Random Forest Regression Model:"
      ],
      "metadata": {
        "id": "IybF57apMkIn"
      }
    },
    {
      "cell_type": "code",
      "source": [
        "forest_reg = RandomForestRegressor(n_estimators= 500, max_depth=6)\n",
        "\n",
        "forest_reg.fit(X_train, y_train)"
      ],
      "metadata": {
        "colab": {
          "base_uri": "https://localhost:8080/"
        },
        "id": "tfuQw2DaMkpm",
        "outputId": "664f3630-af01-4556-c142-3f08b7de321f"
      },
      "execution_count": 54,
      "outputs": [
        {
          "output_type": "execute_result",
          "data": {
            "text/plain": [
              "RandomForestRegressor(max_depth=6, n_estimators=500)"
            ]
          },
          "metadata": {},
          "execution_count": 54
        }
      ]
    },
    {
      "cell_type": "code",
      "source": [
        "mape(y_train,lm.predict(X_train),y_test,forest_reg.predict(X_test))"
      ],
      "metadata": {
        "colab": {
          "base_uri": "https://localhost:8080/"
        },
        "id": "-77_ZJwPMm01",
        "outputId": "47256ea9-8dd3-43b0-c147-0e065d5f5b46"
      },
      "execution_count": 55,
      "outputs": [
        {
          "output_type": "stream",
          "name": "stdout",
          "text": [
            "train\n",
            "mape:  58.105592005775826\n",
            "test\n",
            "mape:  40.816550061850506\n"
          ]
        }
      ]
    },
    {
      "cell_type": "code",
      "source": [
        "scores = cross_val_score(forest_reg, \n",
        "                         X_train, \n",
        "                         y_train, \n",
        "                         scoring=\"neg_mean_squared_error\", \n",
        "                         cv = 5)"
      ],
      "metadata": {
        "id": "ueQHPbcI28hg"
      },
      "execution_count": 56,
      "outputs": []
    },
    {
      "cell_type": "code",
      "source": [
        "forest_reg_rmse_scores_1 = np.expm1(-scores)\n",
        "forest_reg_rmse_scores_1"
      ],
      "metadata": {
        "colab": {
          "base_uri": "https://localhost:8080/"
        },
        "id": "0V9_mzGkV1dB",
        "outputId": "971ee015-9d18-48a1-a209-1bc30b977452"
      },
      "execution_count": 57,
      "outputs": [
        {
          "output_type": "execute_result",
          "data": {
            "text/plain": [
              "array([565258.9970591 , 571275.34770951, 555717.4141373 , 492367.11102531,\n",
              "       480403.07997468])"
            ]
          },
          "metadata": {},
          "execution_count": 57
        }
      ]
    },
    {
      "cell_type": "code",
      "source": [
        "forest_reg_rmse_scores = np.sqrt(-scores)\n",
        "forest_reg_rmse_scores"
      ],
      "metadata": {
        "colab": {
          "base_uri": "https://localhost:8080/"
        },
        "id": "4FO3zs7C453l",
        "outputId": "8aed5adf-f51e-471c-8b66-c37ae2904504"
      },
      "execution_count": 58,
      "outputs": [
        {
          "output_type": "execute_result",
          "data": {
            "text/plain": [
              "array([565258.9970591 , 571275.34770951, 555717.4141373 , 492367.11102531,\n",
              "       480403.07997468])"
            ]
          },
          "metadata": {},
          "execution_count": 58
        }
      ]
    },
    {
      "cell_type": "code",
      "source": [
        "param_grid = [\n",
        "    {'n_estimators': [300, 400, 500], 'max_features': [2, 4, 6]},\n",
        "    {'bootstrap': [False], 'n_estimators': [300, 400, 500], 'max_features': [2, 4, 6]}\n",
        "]\n",
        "\n",
        "forest_regressor = RandomForestRegressor()\n",
        "\n",
        "grid_search = GridSearchCV(forest_regressor, \n",
        "                           param_grid, \n",
        "                           scoring='neg_mean_absolute_percentage_error',\n",
        "                           return_train_score=True,\n",
        "                           cv=3)\n"
      ],
      "metadata": {
        "id": "zpUwMell5WTs"
      },
      "execution_count": 59,
      "outputs": []
    },
    {
      "cell_type": "code",
      "source": [
        "grid_search.fit(X_train, y_train)"
      ],
      "metadata": {
        "colab": {
          "base_uri": "https://localhost:8080/"
        },
        "id": "1rb54NNQChoW",
        "outputId": "889c7810-c23c-4fae-97d8-b988697b4399"
      },
      "execution_count": 60,
      "outputs": [
        {
          "output_type": "execute_result",
          "data": {
            "text/plain": [
              "GridSearchCV(cv=3, estimator=RandomForestRegressor(),\n",
              "             param_grid=[{'max_features': [2, 4, 6],\n",
              "                          'n_estimators': [300, 400, 500]},\n",
              "                         {'bootstrap': [False], 'max_features': [2, 4, 6],\n",
              "                          'n_estimators': [300, 400, 500]}],\n",
              "             return_train_score=True,\n",
              "             scoring='neg_mean_absolute_percentage_error')"
            ]
          },
          "metadata": {},
          "execution_count": 60
        }
      ]
    },
    {
      "cell_type": "code",
      "source": [
        "grid_search.best_params_"
      ],
      "metadata": {
        "colab": {
          "base_uri": "https://localhost:8080/"
        },
        "id": "jPJJUiRtClyv",
        "outputId": "68c327bd-5434-4610-bcbf-6410435423b2"
      },
      "execution_count": 61,
      "outputs": [
        {
          "output_type": "execute_result",
          "data": {
            "text/plain": [
              "{'max_features': 4, 'n_estimators': 500}"
            ]
          },
          "metadata": {},
          "execution_count": 61
        }
      ]
    },
    {
      "cell_type": "code",
      "source": [
        "grid_search.best_estimator_"
      ],
      "metadata": {
        "colab": {
          "base_uri": "https://localhost:8080/"
        },
        "id": "R8L0rZpy5bzH",
        "outputId": "73f45587-e71b-4a77-ed87-70f8a688c9c8"
      },
      "execution_count": 62,
      "outputs": [
        {
          "output_type": "execute_result",
          "data": {
            "text/plain": [
              "RandomForestRegressor(max_features=4, n_estimators=500)"
            ]
          },
          "metadata": {},
          "execution_count": 62
        }
      ]
    },
    {
      "cell_type": "code",
      "source": [
        "final_predictor = grid_search.best_estimator_\n",
        "final_predictor.fit(X_train, y_train)\n",
        "final_pred = final_predictor.predict(X_test)"
      ],
      "metadata": {
        "id": "GAJkJ0mV5kz9"
      },
      "execution_count": 63,
      "outputs": []
    },
    {
      "cell_type": "code",
      "source": [
        "mape(y_train,lm.predict(X_train),y_test,final_predictor.predict(X_test))"
      ],
      "metadata": {
        "colab": {
          "base_uri": "https://localhost:8080/"
        },
        "id": "-Sgn28dA7F_A",
        "outputId": "7331925b-bd43-4335-d0f3-17fa5d63dd5e"
      },
      "execution_count": 64,
      "outputs": [
        {
          "output_type": "stream",
          "name": "stdout",
          "text": [
            "train\n",
            "mape:  58.105592005775826\n",
            "test\n",
            "mape:  34.3074800542146\n"
          ]
        }
      ]
    },
    {
      "cell_type": "code",
      "source": [
        "feature_importances = grid_search.best_estimator_.feature_importances_\n",
        "\n",
        "attrs = list(df_train.select_dtypes(include = ['float64','int64']))\n",
        "\n",
        "sorted(zip(attrs, feature_importances), reverse=True)"
      ],
      "metadata": {
        "colab": {
          "base_uri": "https://localhost:8080/"
        },
        "id": "pk3qgd4W7_-s",
        "outputId": "417d5472-2c2e-45ea-94fa-732b09d6df2d"
      },
      "execution_count": 65,
      "outputs": [
        {
          "output_type": "execute_result",
          "data": {
            "text/plain": [
              "[('ageofproperty', 0.027143878320569477),\n",
              " ('ZipCode', 0.24005594124954918),\n",
              " ('TotalNoOfUnits', 0.03998833910958931),\n",
              " ('TaxClass_AtEvaluationTime_labels', 0.044509031386206016),\n",
              " ('PropertyEvaluationvalue', 0.08098215578271183),\n",
              " ('NoOfResidentialUnits', 0.03214038418684857),\n",
              " ('NoOfCommercialUnits', 0.02953500630537295),\n",
              " ('LandAreaInSqFt', 0.11487324079417388),\n",
              " ('GrossAreaInSqFt', 0.3131578281540914),\n",
              " ('Borough_labels', 0.07761419471088751)]"
            ]
          },
          "metadata": {},
          "execution_count": 65
        }
      ]
    },
    {
      "cell_type": "code",
      "source": [
        "#model_pred = pd.DataFrame({'PropertyID':X_test.PropertyID, 'PropertyEvaluationvalue':final_pred})\n",
        "#model_pred.to_csv('model-predictions.csv',index=False)\n",
        "#model_pred.head()"
      ],
      "metadata": {
        "id": "khi-d4f48az8"
      },
      "execution_count": 67,
      "outputs": []
    },
    {
      "cell_type": "code",
      "source": [
        ""
      ],
      "metadata": {
        "id": "N_KrKUopKYjr"
      },
      "execution_count": null,
      "outputs": []
    }
  ],
  "metadata": {
    "colab": {
      "name": "Feature Engineering+BaselinesModels_Mith.ipynb",
      "provenance": [],
      "collapsed_sections": [],
      "toc_visible": true
    },
    "kernelspec": {
      "display_name": "Python 3",
      "name": "python3"
    },
    "language_info": {
      "name": "python"
    }
  },
  "nbformat": 4,
  "nbformat_minor": 0
}